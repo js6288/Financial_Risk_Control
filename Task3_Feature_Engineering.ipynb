{
 "cells": [
  {
   "cell_type": "markdown",
   "source": [
    "# Task3 特征工程"
   ],
   "metadata": {
    "collapsed": false
   }
  },
  {
   "cell_type": "markdown",
   "source": [
    "### 导入包并读取数据"
   ],
   "metadata": {
    "collapsed": false
   }
  },
  {
   "cell_type": "code",
   "execution_count": 1,
   "outputs": [
    {
     "name": "stdout",
     "output_type": "stream",
     "text": [
      "hello\n"
     ]
    }
   ],
   "source": [
    "print(\"hello\")"
   ],
   "metadata": {
    "collapsed": false
   }
  },
  {
   "cell_type": "code",
   "execution_count": 2,
   "outputs": [],
   "source": [
    "import pandas as pd\n",
    "import numpy as np\n",
    "import matplotlib.pyplot as plt\n",
    "import seaborn as sns\n",
    "import datetime\n",
    "from tqdm import tqdm\n",
    "from sklearn.preprocessing import LabelEncoder\n",
    "from sklearn.feature_selection import SelectKBest\n",
    "from sklearn.feature_selection import chi2\n",
    "from sklearn.preprocessing import MinMaxScaler\n",
    "import xgboost as xgb\n",
    "import lightgbm as lgb\n",
    "from catboost import CatBoostRegressor\n",
    "import warnings\n",
    "from sklearn.model_selection import StratifiedKFold, KFold\n",
    "from sklearn.metrics import accuracy_score, f1_score, roc_auc_score, log_loss\n",
    "warnings.filterwarnings('ignore')"
   ],
   "metadata": {
    "collapsed": false
   }
  },
  {
   "cell_type": "code",
   "execution_count": 3,
   "outputs": [],
   "source": [
    "data_train = pd.read_csv('data/train.csv')\n",
    "data_test_a = pd.read_csv('data/testA.csv')"
   ],
   "metadata": {
    "collapsed": false
   }
  },
  {
   "cell_type": "code",
   "execution_count": 4,
   "outputs": [],
   "source": [
    "# numerical_fea 是一个列表，包含 data_train 中所有非 object 类型的列名（即数值型列）\n",
    "numerical_fea  = list(data_train.select_dtypes(exclude=['object']).columns)\n",
    "# 使用 filter 函数和 lambda 表达式来筛选出那些不在 numerical_fea 列表中的列名。\n",
    "category_fea = list(filter(lambda x: x not in numerical_fea, list(data_train.columns)))\n",
    "label = 'isDefault'\n",
    "numerical_fea.remove(label)"
   ],
   "metadata": {
    "collapsed": false
   }
  },
  {
   "cell_type": "markdown",
   "source": [
    "查看缺失值情况"
   ],
   "metadata": {
    "collapsed": false
   }
  },
  {
   "cell_type": "code",
   "execution_count": 5,
   "outputs": [
    {
     "data": {
      "text/plain": "id                        0\nloanAmnt                  0\nterm                      0\ninterestRate              0\ninstallment               0\ngrade                     0\nsubGrade                  0\nemploymentTitle           1\nemploymentLength      46799\nhomeOwnership             0\nannualIncome              0\nverificationStatus        0\nissueDate                 0\nisDefault                 0\npurpose                   0\npostCode                  1\nregionCode                0\ndti                     239\ndelinquency_2years        0\nficoRangeLow              0\nficoRangeHigh             0\nopenAcc                   0\npubRec                    0\npubRecBankruptcies      405\nrevolBal                  0\nrevolUtil               531\ntotalAcc                  0\ninitialListStatus         0\napplicationType           0\nearliesCreditLine         0\ntitle                     1\npolicyCode                0\nn0                    40270\nn1                    40270\nn2                    40270\nn3                    40270\nn4                    33239\nn5                    40270\nn6                    40270\nn7                    40270\nn8                    40271\nn9                    40270\nn10                   33239\nn11                   69752\nn12                   40270\nn13                   40270\nn14                   40270\ndtype: int64"
     },
     "execution_count": 5,
     "metadata": {},
     "output_type": "execute_result"
    }
   ],
   "source": [
    "#查看缺失值情况\n",
    "data_train.isnull().sum()"
   ],
   "metadata": {
    "collapsed": false
   }
  },
  {
   "cell_type": "code",
   "execution_count": 6,
   "outputs": [],
   "source": [
    "# 按照中位数填充数值型特征\n",
    "data_train[numerical_fea] = data_train[numerical_fea].fillna( data_train[numerical_fea].median() )\n",
    "data_test_a[numerical_fea] = data_test_a[numerical_fea].fillna( data_test_a[numerical_fea].median() )\n",
    "\n",
    "#按照众数填充类别型特征\n",
    "data_train[category_fea] = data_train[category_fea].fillna(data_train[category_fea].mode())\n",
    "data_test_a[category_fea] = data_test_a[category_fea].fillna(data_train[category_fea].mode())\n"
   ],
   "metadata": {
    "collapsed": false
   }
  },
  {
   "cell_type": "code",
   "execution_count": 7,
   "outputs": [
    {
     "data": {
      "text/plain": "id                        0\nloanAmnt                  0\nterm                      0\ninterestRate              0\ninstallment               0\ngrade                     0\nsubGrade                  0\nemploymentTitle           0\nemploymentLength      46799\nhomeOwnership             0\nannualIncome              0\nverificationStatus        0\nissueDate                 0\nisDefault                 0\npurpose                   0\npostCode                  0\nregionCode                0\ndti                       0\ndelinquency_2years        0\nficoRangeLow              0\nficoRangeHigh             0\nopenAcc                   0\npubRec                    0\npubRecBankruptcies        0\nrevolBal                  0\nrevolUtil                 0\ntotalAcc                  0\ninitialListStatus         0\napplicationType           0\nearliesCreditLine         0\ntitle                     0\npolicyCode                0\nn0                        0\nn1                        0\nn2                        0\nn3                        0\nn4                        0\nn5                        0\nn6                        0\nn7                        0\nn8                        0\nn9                        0\nn10                       0\nn11                       0\nn12                       0\nn13                       0\nn14                       0\ndtype: int64"
     },
     "execution_count": 7,
     "metadata": {},
     "output_type": "execute_result"
    }
   ],
   "source": [
    "data_train.isnull().sum()"
   ],
   "metadata": {
    "collapsed": false
   }
  },
  {
   "cell_type": "code",
   "execution_count": 8,
   "outputs": [
    {
     "data": {
      "text/plain": "['grade', 'subGrade', 'employmentLength', 'issueDate', 'earliesCreditLine']"
     },
     "execution_count": 8,
     "metadata": {},
     "output_type": "execute_result"
    }
   ],
   "source": [
    "#查看类别特征\n",
    "category_fea"
   ],
   "metadata": {
    "collapsed": false
   }
  },
  {
   "cell_type": "markdown",
   "source": [
    "### 时间格式处理"
   ],
   "metadata": {
    "collapsed": false
   }
  },
  {
   "cell_type": "code",
   "execution_count": 9,
   "outputs": [],
   "source": [
    "#转化成时间格式\n",
    "for data in [data_train, data_test_a]:\n",
    "    data['issueDate'] = pd.to_datetime(data['issueDate'],format='%Y-%m-%d')\n",
    "    startdate = datetime.datetime.strptime('2007-06-01', '%Y-%m-%d')\n",
    "    #构造时间特征\n",
    "    data['issueDateDT'] = data['issueDate'].apply(lambda x: x-startdate).dt.days"
   ],
   "metadata": {
    "collapsed": false
   }
  },
  {
   "cell_type": "code",
   "execution_count": 10,
   "outputs": [
    {
     "data": {
      "text/plain": "issueDateDT\n3196    29066\n3044    25525\n2952    24496\n3105    23245\n2679    21461\n        ...  \n61         23\n30         21\n458        19\n92          7\n0           1\nName: count, Length: 139, dtype: int64"
     },
     "execution_count": 10,
     "metadata": {},
     "output_type": "execute_result"
    }
   ],
   "source": [
    "data_train['issueDateDT'].value_counts(dropna=False)"
   ],
   "metadata": {
    "collapsed": false
   }
  },
  {
   "cell_type": "code",
   "execution_count": 11,
   "outputs": [
    {
     "data": {
      "text/plain": "employmentLength\n1 year        52489\n10+ years    262753\n2 years       72358\n3 years       64152\n4 years       47985\n5 years       50102\n6 years       37254\n7 years       35407\n8 years       36192\n9 years       30272\n< 1 year      64237\nNaN           46799\nName: count, dtype: int64"
     },
     "execution_count": 11,
     "metadata": {},
     "output_type": "execute_result"
    }
   ],
   "source": [
    "data_train['employmentLength'].value_counts(dropna=False).sort_index()"
   ],
   "metadata": {
    "collapsed": false
   }
  },
  {
   "cell_type": "code",
   "execution_count": 12,
   "outputs": [],
   "source": [
    "from utils_jessie import employmentLength_to_int"
   ],
   "metadata": {
    "collapsed": false
   }
  },
  {
   "cell_type": "code",
   "execution_count": 13,
   "outputs": [],
   "source": [
    "for data in [data_train, data_test_a]:\n",
    "    data['employmentLength'].replace(to_replace='10+ years', value='10 years', inplace=True)\n",
    "    data['employmentLength'].replace('< 1 year', '0 years', inplace=True)\n",
    "    data['employmentLength'] = data['employmentLength'].apply(employmentLength_to_int)"
   ],
   "metadata": {
    "collapsed": false
   }
  },
  {
   "cell_type": "code",
   "execution_count": 14,
   "outputs": [
    {
     "data": {
      "text/plain": "employmentLength\n0.0     15989\n1.0     13182\n2.0     18207\n3.0     16011\n4.0     11833\n5.0     12543\n6.0      9328\n7.0      8823\n8.0      8976\n9.0      7594\n10.0    65772\nNaN     11742\nName: count, dtype: int64"
     },
     "execution_count": 14,
     "metadata": {},
     "output_type": "execute_result"
    }
   ],
   "source": [
    "data['employmentLength'].value_counts(dropna=False).sort_index()"
   ],
   "metadata": {
    "collapsed": false
   }
  },
  {
   "cell_type": "markdown",
   "source": [
    "### 对earliesCreditLine进行预处理"
   ],
   "metadata": {
    "collapsed": false
   }
  },
  {
   "cell_type": "code",
   "execution_count": 15,
   "outputs": [
    {
     "data": {
      "text/plain": "496638    Jan-1990\n430737    Feb-1994\n426042    Nov-2000\n248817    Sep-2003\n615991    May-2005\nName: earliesCreditLine, dtype: object"
     },
     "execution_count": 15,
     "metadata": {},
     "output_type": "execute_result"
    }
   ],
   "source": [
    "data_train['earliesCreditLine'].sample(5)"
   ],
   "metadata": {
    "collapsed": false
   }
  },
  {
   "cell_type": "code",
   "execution_count": 16,
   "outputs": [],
   "source": [
    "for data in [data_train,data_test_a]:\n",
    "    data['earliesCreditLine'] = data['earliesCreditLine'].apply(lambda s: int(s[-4:]))"
   ],
   "metadata": {
    "collapsed": false
   }
  },
  {
   "cell_type": "markdown",
   "source": [
    "### 类别特征处理"
   ],
   "metadata": {
    "collapsed": false
   }
  },
  {
   "cell_type": "code",
   "execution_count": 17,
   "outputs": [
    {
     "name": "stdout",
     "output_type": "stream",
     "text": [
      "grade 类型数： 7\n",
      "subGrade 类型数： 35\n",
      "employmentTitle 类型数： 79282\n",
      "homeOwnership 类型数： 6\n",
      "verificationStatus 类型数： 3\n",
      "purpose 类型数： 14\n",
      "postCode 类型数： 889\n",
      "regionCode 类型数： 51\n",
      "applicationType 类型数： 2\n",
      "initialListStatus 类型数： 2\n",
      "title 类型数： 12058\n",
      "policyCode 类型数： 1\n"
     ]
    }
   ],
   "source": [
    "# 部分类别特征\n",
    "cate_features = ['grade', 'subGrade', 'employmentTitle', 'homeOwnership', 'verificationStatus', 'purpose', 'postCode', 'regionCode', \\\n",
    "                 'applicationType', 'initialListStatus', 'title', 'policyCode']\n",
    "for f in cate_features:\n",
    "    print(f, '类型数：', data[f].nunique())"
   ],
   "metadata": {
    "collapsed": false,
    "pycharm": {
     "name": "#%%实打实\n"
    }
   }
  },
  {
   "cell_type": "code",
   "execution_count": 18,
   "outputs": [],
   "source": [
    "# 像等级这种类别特征，是有优先级的可以labelencode或者自映射\n",
    "\n",
    "for data in [data_train, data_test_a]:\n",
    "    data['grade'] = data['grade'].map({'A':1,'B':2,'C':3,'D':4,'E':5,'F':6,'G':7})"
   ],
   "metadata": {
    "collapsed": false
   }
  },
  {
   "cell_type": "code",
   "execution_count": 19,
   "outputs": [],
   "source": [
    "# 类型数在2之上，又不是高维稀疏的,且纯分类特征\n",
    "for data in [data_train,data_test_a]:\n",
    "    data = pd.get_dummies(data,columns=['subGrade', 'homeOwnership', 'verificationStatus', 'purpose', 'regionCode'],drop_first=True)"
   ],
   "metadata": {
    "collapsed": false
   }
  },
  {
   "cell_type": "markdown",
   "source": [
    "#### 异常值处理"
   ],
   "metadata": {
    "collapsed": false
   }
  },
  {
   "cell_type": "code",
   "execution_count": 20,
   "outputs": [],
   "source": [
    "from utils_jessie import find_outliers_by_3segama"
   ],
   "metadata": {
    "collapsed": false
   }
  },
  {
   "cell_type": "code",
   "execution_count": 21,
   "outputs": [
    {
     "name": "stdout",
     "output_type": "stream",
     "text": [
      "id_outliers\n",
      "正常值    800000\n",
      "Name: count, dtype: int64\n",
      "id_outliers\n",
      "正常值    159610\n",
      "Name: isDefault, dtype: int64\n",
      "**********\n",
      "loanAmnt_outliers\n",
      "正常值    800000\n",
      "Name: count, dtype: int64\n",
      "loanAmnt_outliers\n",
      "正常值    159610\n",
      "Name: isDefault, dtype: int64\n",
      "**********\n",
      "term_outliers\n",
      "正常值    800000\n",
      "Name: count, dtype: int64\n",
      "term_outliers\n",
      "正常值    159610\n",
      "Name: isDefault, dtype: int64\n",
      "**********\n",
      "interestRate_outliers\n",
      "正常值    794259\n",
      "异常值      5741\n",
      "Name: count, dtype: int64\n",
      "interestRate_outliers\n",
      "异常值      2916\n",
      "正常值    156694\n",
      "Name: isDefault, dtype: int64\n",
      "**********\n",
      "installment_outliers\n",
      "正常值    792046\n",
      "异常值      7954\n",
      "Name: count, dtype: int64\n",
      "installment_outliers\n",
      "异常值      2152\n",
      "正常值    157458\n",
      "Name: isDefault, dtype: int64\n",
      "**********\n",
      "employmentTitle_outliers\n",
      "正常值    800000\n",
      "Name: count, dtype: int64\n",
      "employmentTitle_outliers\n",
      "正常值    159610\n",
      "Name: isDefault, dtype: int64\n",
      "**********\n",
      "homeOwnership_outliers\n",
      "正常值    799701\n",
      "异常值       299\n",
      "Name: count, dtype: int64\n",
      "homeOwnership_outliers\n",
      "异常值        62\n",
      "正常值    159548\n",
      "Name: isDefault, dtype: int64\n",
      "**********\n",
      "annualIncome_outliers\n",
      "正常值    793973\n",
      "异常值      6027\n",
      "Name: count, dtype: int64\n",
      "annualIncome_outliers\n",
      "异常值       756\n",
      "正常值    158854\n",
      "Name: isDefault, dtype: int64\n",
      "**********\n",
      "verificationStatus_outliers\n",
      "正常值    800000\n",
      "Name: count, dtype: int64\n",
      "verificationStatus_outliers\n",
      "正常值    159610\n",
      "Name: isDefault, dtype: int64\n",
      "**********\n",
      "purpose_outliers\n",
      "正常值    783003\n",
      "异常值     16997\n",
      "Name: count, dtype: int64\n",
      "purpose_outliers\n",
      "异常值      3635\n",
      "正常值    155975\n",
      "Name: isDefault, dtype: int64\n",
      "**********\n",
      "postCode_outliers\n",
      "正常值    798931\n",
      "异常值      1069\n",
      "Name: count, dtype: int64\n",
      "postCode_outliers\n",
      "异常值       221\n",
      "正常值    159389\n",
      "Name: isDefault, dtype: int64\n",
      "**********\n",
      "regionCode_outliers\n",
      "正常值    799994\n",
      "异常值         6\n",
      "Name: count, dtype: int64\n",
      "regionCode_outliers\n",
      "异常值         1\n",
      "正常值    159609\n",
      "Name: isDefault, dtype: int64\n",
      "**********\n",
      "dti_outliers\n",
      "正常值    798440\n",
      "异常值      1560\n",
      "Name: count, dtype: int64\n",
      "dti_outliers\n",
      "异常值       466\n",
      "正常值    159144\n",
      "Name: isDefault, dtype: int64\n",
      "**********\n",
      "delinquency_2years_outliers\n",
      "正常值    778245\n",
      "异常值     21755\n",
      "Name: count, dtype: int64\n",
      "delinquency_2years_outliers\n",
      "异常值      5089\n",
      "正常值    154521\n",
      "Name: isDefault, dtype: int64\n",
      "**********\n",
      "ficoRangeLow_outliers\n",
      "正常值    788261\n",
      "异常值     11739\n",
      "Name: count, dtype: int64\n",
      "ficoRangeLow_outliers\n",
      "异常值       778\n",
      "正常值    158832\n",
      "Name: isDefault, dtype: int64\n",
      "**********\n",
      "ficoRangeHigh_outliers\n",
      "正常值    788261\n",
      "异常值     11739\n",
      "Name: count, dtype: int64\n",
      "ficoRangeHigh_outliers\n",
      "异常值       778\n",
      "正常值    158832\n",
      "Name: isDefault, dtype: int64\n",
      "**********\n",
      "openAcc_outliers\n",
      "正常值    790889\n",
      "异常值      9111\n",
      "Name: count, dtype: int64\n",
      "openAcc_outliers\n",
      "异常值      2195\n",
      "正常值    157415\n",
      "Name: isDefault, dtype: int64\n",
      "**********\n",
      "pubRec_outliers\n",
      "正常值    792471\n",
      "异常值      7529\n",
      "Name: count, dtype: int64\n",
      "pubRec_outliers\n",
      "异常值      1701\n",
      "正常值    157909\n",
      "Name: isDefault, dtype: int64\n",
      "**********\n",
      "pubRecBankruptcies_outliers\n",
      "正常值    794120\n",
      "异常值      5880\n",
      "Name: count, dtype: int64\n",
      "pubRecBankruptcies_outliers\n",
      "异常值      1423\n",
      "正常值    158187\n",
      "Name: isDefault, dtype: int64\n",
      "**********\n",
      "revolBal_outliers\n",
      "正常值    790001\n",
      "异常值      9999\n",
      "Name: count, dtype: int64\n",
      "revolBal_outliers\n",
      "异常值      1359\n",
      "正常值    158251\n",
      "Name: isDefault, dtype: int64\n",
      "**********\n",
      "revolUtil_outliers\n",
      "正常值    799948\n",
      "异常值        52\n",
      "Name: count, dtype: int64\n",
      "revolUtil_outliers\n",
      "异常值        23\n",
      "正常值    159587\n",
      "Name: isDefault, dtype: int64\n",
      "**********\n",
      "totalAcc_outliers\n",
      "正常值    791663\n",
      "异常值      8337\n",
      "Name: count, dtype: int64\n",
      "totalAcc_outliers\n",
      "异常值      1668\n",
      "正常值    157942\n",
      "Name: isDefault, dtype: int64\n",
      "**********\n",
      "initialListStatus_outliers\n",
      "正常值    800000\n",
      "Name: count, dtype: int64\n",
      "initialListStatus_outliers\n",
      "正常值    159610\n",
      "Name: isDefault, dtype: int64\n",
      "**********\n",
      "applicationType_outliers\n",
      "正常值    784586\n",
      "异常值     15414\n",
      "Name: count, dtype: int64\n",
      "applicationType_outliers\n",
      "异常值      3875\n",
      "正常值    155735\n",
      "Name: isDefault, dtype: int64\n",
      "**********\n",
      "title_outliers\n",
      "正常值    775134\n",
      "异常值     24866\n",
      "Name: count, dtype: int64\n",
      "title_outliers\n",
      "异常值      3900\n",
      "正常值    155710\n",
      "Name: isDefault, dtype: int64\n",
      "**********\n",
      "policyCode_outliers\n",
      "正常值    800000\n",
      "Name: count, dtype: int64\n",
      "policyCode_outliers\n",
      "正常值    159610\n",
      "Name: isDefault, dtype: int64\n",
      "**********\n",
      "n0_outliers\n",
      "正常值    782773\n",
      "异常值     17227\n",
      "Name: count, dtype: int64\n",
      "n0_outliers\n",
      "异常值      3485\n",
      "正常值    156125\n",
      "Name: isDefault, dtype: int64\n",
      "**********\n",
      "n1_outliers\n",
      "正常值    790500\n",
      "异常值      9500\n",
      "Name: count, dtype: int64\n",
      "n1_outliers\n",
      "异常值      2491\n",
      "正常值    157119\n",
      "Name: isDefault, dtype: int64\n",
      "**********\n",
      "n2_outliers\n",
      "正常值    789067\n",
      "异常值     10933\n",
      "Name: count, dtype: int64\n",
      "n2_outliers\n",
      "异常值      3205\n",
      "正常值    156405\n",
      "Name: isDefault, dtype: int64\n",
      "**********\n",
      "n3_outliers\n",
      "正常值    789067\n",
      "异常值     10933\n",
      "Name: count, dtype: int64\n",
      "n3_outliers\n",
      "异常值      3205\n",
      "正常值    156405\n",
      "Name: isDefault, dtype: int64\n",
      "**********\n",
      "n4_outliers\n",
      "正常值    788660\n",
      "异常值     11340\n",
      "Name: count, dtype: int64\n",
      "n4_outliers\n",
      "异常值      2476\n",
      "正常值    157134\n",
      "Name: isDefault, dtype: int64\n",
      "**********\n",
      "n5_outliers\n",
      "正常值    790355\n",
      "异常值      9645\n",
      "Name: count, dtype: int64\n",
      "n5_outliers\n",
      "异常值      1858\n",
      "正常值    157752\n",
      "Name: isDefault, dtype: int64\n",
      "**********\n",
      "n6_outliers\n",
      "正常值    786006\n",
      "异常值     13994\n",
      "Name: count, dtype: int64\n",
      "n6_outliers\n",
      "异常值      3182\n",
      "正常值    156428\n",
      "Name: isDefault, dtype: int64\n",
      "**********\n",
      "n7_outliers\n",
      "正常值    788430\n",
      "异常值     11570\n",
      "Name: count, dtype: int64\n",
      "n7_outliers\n",
      "异常值      2746\n",
      "正常值    156864\n",
      "Name: isDefault, dtype: int64\n",
      "**********\n",
      "n8_outliers\n",
      "正常值    789625\n",
      "异常值     10375\n",
      "Name: count, dtype: int64\n",
      "n8_outliers\n",
      "异常值      2131\n",
      "正常值    157479\n",
      "Name: isDefault, dtype: int64\n",
      "**********\n",
      "n9_outliers\n",
      "正常值    786384\n",
      "异常值     13616\n",
      "Name: count, dtype: int64\n",
      "n9_outliers\n",
      "异常值      3953\n",
      "正常值    155657\n",
      "Name: isDefault, dtype: int64\n",
      "**********\n",
      "n10_outliers\n",
      "正常值    788979\n",
      "异常值     11021\n",
      "Name: count, dtype: int64\n",
      "n10_outliers\n",
      "异常值      2639\n",
      "正常值    156971\n",
      "Name: isDefault, dtype: int64\n",
      "**********\n",
      "n11_outliers\n",
      "正常值    799434\n",
      "异常值       566\n",
      "Name: count, dtype: int64\n",
      "n11_outliers\n",
      "异常值       112\n",
      "正常值    159498\n",
      "Name: isDefault, dtype: int64\n",
      "**********\n",
      "n12_outliers\n",
      "正常值    797585\n",
      "异常值      2415\n",
      "Name: count, dtype: int64\n",
      "n12_outliers\n",
      "异常值       545\n",
      "正常值    159065\n",
      "Name: isDefault, dtype: int64\n",
      "**********\n",
      "n13_outliers\n",
      "正常值    788907\n",
      "异常值     11093\n",
      "Name: count, dtype: int64\n",
      "n13_outliers\n",
      "异常值      2482\n",
      "正常值    157128\n",
      "Name: isDefault, dtype: int64\n",
      "**********\n",
      "n14_outliers\n",
      "正常值    788884\n",
      "异常值     11116\n",
      "Name: count, dtype: int64\n",
      "n14_outliers\n",
      "异常值      3364\n",
      "正常值    156246\n",
      "Name: isDefault, dtype: int64\n",
      "**********\n"
     ]
    }
   ],
   "source": [
    "data_train = data_train.copy()\n",
    "for fea in numerical_fea:\n",
    "    data_train = find_outliers_by_3segama(data_train,fea)\n",
    "    print(data_train[fea+'_outliers'].value_counts())\n",
    "    print(data_train.groupby(fea+'_outliers')['isDefault'].sum())\n",
    "    print('*'*10)"
   ],
   "metadata": {
    "collapsed": false
   }
  },
  {
   "cell_type": "markdown",
   "source": [
    "例如可以看到异常值在两个变量上的分布几乎复合整体的分布，如果异常值都属于为1的用户数据里面代表什么呢？\n"
   ],
   "metadata": {
    "collapsed": false
   }
  },
  {
   "cell_type": "code",
   "execution_count": 22,
   "outputs": [],
   "source": [
    "#删除异常值\n",
    "for fea in numerical_fea:\n",
    "    data_train = data_train[data_train[fea+'_outliers']=='正常值']\n",
    "    # 在每次过滤操作后，调用 reset_index(drop=True) 方法重新设置 DataFrame 的索引，并丢弃旧的索引\n",
    "    data_train = data_train.reset_index(drop=True)"
   ],
   "metadata": {
    "collapsed": false
   }
  },
  {
   "cell_type": "markdown",
   "source": [
    "## 数据分箱"
   ],
   "metadata": {
    "collapsed": false
   }
  },
  {
   "cell_type": "code",
   "execution_count": 23,
   "outputs": [],
   "source": [
    "# 通过除法映射到间隔均匀的分箱中，每个分箱的取值范围都是loanAmnt/1000\n",
    "data['loanAmnt_bin1'] = np.floor_divide(data['loanAmnt'], 1000)"
   ],
   "metadata": {
    "collapsed": false
   }
  },
  {
   "cell_type": "code",
   "execution_count": 24,
   "outputs": [],
   "source": [
    "# 通过对数函数映射到指数宽度分箱\n",
    "data['loanAmnt_bin2'] = np.floor(np.log10(data['loanAmnt']))"
   ],
   "metadata": {
    "collapsed": false
   }
  },
  {
   "cell_type": "code",
   "execution_count": 25,
   "outputs": [],
   "source": [
    "# 分位数分箱\n",
    "data['loanAmnt_bin3'] = pd.qcut(data['loanAmnt'], 10, labels=False)"
   ],
   "metadata": {
    "collapsed": false
   }
  },
  {
   "cell_type": "markdown",
   "source": [
    "## 特征交互"
   ],
   "metadata": {
    "collapsed": false
   }
  },
  {
   "cell_type": "code",
   "execution_count": 26,
   "outputs": [],
   "source": [
    "for col in ['grade', 'subGrade']:\n",
    "    # 对于每一个列名（'grade' 和 'subGrade'）\n",
    "\n",
    "    temp_dict = data_train.groupby([col])['isDefault'].agg(['mean']).reset_index().rename(columns={'mean': col + '_target_mean'})\n",
    "    # 1. 使用 groupby 按照当前列（'grade' 或 'subGrade'）进行分组。\n",
    "    # 2. 计算每组中 'isDefault' 列的平均值。\n",
    "    # 3. 使用 reset_index() 将分组结果转换为 DataFrame。\n",
    "    # 4. 重命名聚合后的列名为 col + '_target_mean' （例如 'grade_target_mean' 或 'subGrade_target_mean'）。\n",
    "\n",
    "    temp_dict.index = temp_dict[col].values\n",
    "    # 将临时 DataFrame 的索引设置为当前列的值（即 'grade' 或 'subGrade' 的值）。\n",
    "\n",
    "    temp_dict = temp_dict[col + '_target_mean'].to_dict()\n",
    "    # 将包含目标均值的 Series 转换为字典，键是类别值，值是对应的 'isDefault' 平均值。\n",
    "\n",
    "    data_train[col + '_target_mean'] = data_train[col].map(temp_dict)\n",
    "    # 使用 map 函数将训练集中的 'grade' 或 'subGrade' 列映射到其对应的 'isDefault' 平均值，并创建新列存储结果。\n",
    "\n",
    "    data_test_a[col + '_target_mean'] = data_test_a[col].map(temp_dict)\n",
    "    # 同样地，对测试集进行相同的映射操作，创建新列存储结果。"
   ],
   "metadata": {
    "collapsed": false
   }
  },
  {
   "cell_type": "code",
   "execution_count": 27,
   "outputs": [],
   "source": [
    "# 对训练集和测试集进行循环处理\n",
    "for df in [data_train, data_test_a]:\n",
    "    # 对每个指定的列名 'n0', 'n1', ..., 'n14' 进行循环\n",
    "    for item in ['n0','n1','n2','n4','n5','n6','n7','n8','n9','n10','n11','n12','n13','n14']:\n",
    "        # 计算 'grade' 列相对于 'item' 列分组后 'grade' 的均值，并创建新列存储结果\n",
    "        df['grade_to_mean_' + item] = df['grade'] / df.groupby([item])['grade'].transform('mean')\n",
    "\n",
    "        # 计算 'grade' 列相对于 'item' 列分组后 'grade' 的标准差，并创建新列存储结果\n",
    "        df['grade_to_std_' + item] = df['grade'] / df.groupby([item])['grade'].transform('std')"
   ],
   "metadata": {
    "collapsed": false
   }
  },
  {
   "cell_type": "markdown",
   "source": [
    "### 特征编码"
   ],
   "metadata": {
    "collapsed": false
   }
  },
  {
   "cell_type": "markdown",
   "source": [
    "labelEncode 直接放入树模型中\n"
   ],
   "metadata": {
    "collapsed": false
   }
  },
  {
   "cell_type": "code",
   "execution_count": 28,
   "outputs": [
    {
     "name": "stderr",
     "output_type": "stream",
     "text": [
      "100%|██████████| 4/4 [00:04<00:00,  1.02s/it]"
     ]
    },
    {
     "name": "stdout",
     "output_type": "stream",
     "text": [
      "Label Encoding 完成\n"
     ]
    },
    {
     "name": "stderr",
     "output_type": "stream",
     "text": [
      "\n"
     ]
    }
   ],
   "source": [
    "# label-encode:subGrade,postCode,title\n",
    "# 高维类别特征需要进行转换\n",
    "\n",
    "# 对指定的列进行标签编码\n",
    "for col in tqdm(['employmentTitle', 'postCode', 'title','subGrade']):\n",
    "    # 初始化 LabelEncoder\n",
    "    le = LabelEncoder()\n",
    "    # 合并训练集和测试集中的该列数据，并转换为字符串类型\n",
    "    combined_data = list(data_train[col].astype(str).values) + list(data_test_a[col].astype(str).values)\n",
    "    # 拟合 LabelEncoder\n",
    "    le.fit(combined_data)\n",
    "    # 对训练集和测试集中的该列进行转换\n",
    "    data_train[col] = le.transform(list(data_train[col].astype(str).values))\n",
    "    data_test_a[col] = le.transform(list(data_test_a[col].astype(str).values))\n",
    "print('Label Encoding 完成')"
   ],
   "metadata": {
    "collapsed": false
   }
  },
  {
   "cell_type": "markdown",
   "source": [
    "#### 逻辑回归等模型要单独增加的特征工程\n",
    "\n",
    "- 对特征做**归一化**，去除相关性高的特征\n",
    "- 归一化目的是让训练过程更好更快的收敛，避免特征大吃小的问题\n",
    "- 去除相关性是增加模型的可解释性，加快预测过程。\n",
    "\n",
    "> 1. 除以最大值：所有特征除以各自的范围最大值，使得特征值范围都在0~1之间。于是$0.15 \\leq \\frac {x_1}{2000} \\leq 1$、 $0 \\leq \\frac{x_2}{5} \\leq 1$\n",
    "> 2. 均值归一化(Mean normalization)：使得特征值范围大致为-1~1。假设$x_1$ 的平均值为 $\\mu_1 =600、x_2的平均值为 \\mu_2 = 2.3 \\ ，于是-0.18 \\leq \\frac{x_1-\\mu_1}{2000-300} \\leq 0.82、-0.46 \\leq \\frac{x_2 - \\mu_2}{5-0} \\leq 0.54$\n",
    "> 3. Z-score归一化(Z-score normalization)【推荐】：使得特征值服从标准正态分布。假设$x_1$的平均值和标准差分别为$\\mu_1 = 600，\\sigma_1 = 450 ，x_2 $ 的平均值和标准差分别为$\\mu_2 = 2.3，\\sigma_2 = 1.4 $ 于是  $-0.67 \\leq \\frac{x_1 - \\mu_1}{\\sigma_1} \\leq 3.1  $  ,  $-1.6 \\leq \\frac{x_2- \\mu_2}{\\sigma_2 } \\leq 1.9 $\n",
    "\n"
   ],
   "metadata": {
    "collapsed": false
   }
  },
  {
   "cell_type": "markdown",
   "source": [
    "## 特征选择"
   ],
   "metadata": {
    "collapsed": false
   }
  },
  {
   "cell_type": "code",
   "execution_count": 29,
   "outputs": [],
   "source": [
    "# from sklearn.feature_selection import SelectKBest\n",
    "# from sklearn.feature_selection import chi2\n",
    "# #参数k为选择的特征个数\n",
    "#\n",
    "# SelectKBest(chi2, k=5).fit_transform(data_train,data_train['isDefault'])"
   ],
   "metadata": {
    "collapsed": false
   }
  },
  {
   "cell_type": "markdown",
   "source": [
    "本数据集中我们删除非入模特征后，并对缺失值填充，然后用计算协方差的方式看一下特征间相关性，然后进行模型训练\n",
    "\n",
    "```\n",
    "# 删除不需要的数据\n",
    "for data in [data_train, data_test_a]:\n",
    "    data.drop(['issueDate'], axis=1,inplace=True)\n",
    "```"
   ],
   "metadata": {
    "collapsed": false
   }
  },
  {
   "cell_type": "code",
   "execution_count": 30,
   "outputs": [],
   "source": [
    "# 删除不需要的数据\n",
    "for data in [data_train, data_test_a]:\n",
    "    data.drop(['issueDate'], axis=1,inplace=True)"
   ],
   "metadata": {
    "collapsed": false
   }
  },
  {
   "cell_type": "code",
   "execution_count": 31,
   "outputs": [],
   "source": [
    "for data in [data_train, data_test_a]:\n",
    "    data.drop(['id'], axis=1,inplace=True)"
   ],
   "metadata": {
    "collapsed": false
   }
  },
  {
   "cell_type": "code",
   "execution_count": 32,
   "outputs": [],
   "source": [
    "\"纵向用缺失值上面的值替换缺失值\"\n",
    "data_train = data_train.fillna(method='ffill')"
   ],
   "metadata": {
    "collapsed": false
   }
  },
  {
   "cell_type": "code",
   "execution_count": 33,
   "outputs": [
    {
     "ename": "ValueError",
     "evalue": "could not convert string to float: '正常值'",
     "output_type": "error",
     "traceback": [
      "\u001B[1;31m---------------------------------------------------------------------------\u001B[0m",
      "\u001B[1;31mValueError\u001B[0m                                Traceback (most recent call last)",
      "Cell \u001B[1;32mIn[33], line 3\u001B[0m\n\u001B[0;32m      1\u001B[0m x_train \u001B[38;5;241m=\u001B[39m data_train\n\u001B[0;32m      2\u001B[0m \u001B[38;5;66;03m#计算协方差\u001B[39;00m\n\u001B[1;32m----> 3\u001B[0m data_corr \u001B[38;5;241m=\u001B[39m \u001B[43mx_train\u001B[49m\u001B[38;5;241;43m.\u001B[39;49m\u001B[43mcorrwith\u001B[49m\u001B[43m(\u001B[49m\u001B[43mdata_train\u001B[49m\u001B[38;5;241;43m.\u001B[39;49m\u001B[43misDefault\u001B[49m\u001B[43m)\u001B[49m \u001B[38;5;66;03m#计算相关性\u001B[39;00m\n\u001B[0;32m      4\u001B[0m result \u001B[38;5;241m=\u001B[39m pd\u001B[38;5;241m.\u001B[39mDataFrame(columns\u001B[38;5;241m=\u001B[39m[\u001B[38;5;124m'\u001B[39m\u001B[38;5;124mfeatures\u001B[39m\u001B[38;5;124m'\u001B[39m, \u001B[38;5;124m'\u001B[39m\u001B[38;5;124mcorr\u001B[39m\u001B[38;5;124m'\u001B[39m])\n\u001B[0;32m      5\u001B[0m result[\u001B[38;5;124m'\u001B[39m\u001B[38;5;124mfeatures\u001B[39m\u001B[38;5;124m'\u001B[39m] \u001B[38;5;241m=\u001B[39m data_corr\u001B[38;5;241m.\u001B[39mindex\n",
      "File \u001B[1;32mD:\\ljs\\anaconda3\\lib\\site-packages\\pandas\\core\\frame.py:11295\u001B[0m, in \u001B[0;36mDataFrame.corrwith\u001B[1;34m(self, other, axis, drop, method, numeric_only)\u001B[0m\n\u001B[0;32m  11292\u001B[0m this \u001B[38;5;241m=\u001B[39m \u001B[38;5;28mself\u001B[39m\u001B[38;5;241m.\u001B[39m_get_numeric_data() \u001B[38;5;28;01mif\u001B[39;00m numeric_only \u001B[38;5;28;01melse\u001B[39;00m \u001B[38;5;28mself\u001B[39m\n\u001B[0;32m  11294\u001B[0m \u001B[38;5;28;01mif\u001B[39;00m \u001B[38;5;28misinstance\u001B[39m(other, Series):\n\u001B[1;32m> 11295\u001B[0m     \u001B[38;5;28;01mreturn\u001B[39;00m \u001B[43mthis\u001B[49m\u001B[38;5;241;43m.\u001B[39;49m\u001B[43mapply\u001B[49m\u001B[43m(\u001B[49m\u001B[38;5;28;43;01mlambda\u001B[39;49;00m\u001B[43m \u001B[49m\u001B[43mx\u001B[49m\u001B[43m:\u001B[49m\u001B[43m \u001B[49m\u001B[43mother\u001B[49m\u001B[38;5;241;43m.\u001B[39;49m\u001B[43mcorr\u001B[49m\u001B[43m(\u001B[49m\u001B[43mx\u001B[49m\u001B[43m,\u001B[49m\u001B[43m \u001B[49m\u001B[43mmethod\u001B[49m\u001B[38;5;241;43m=\u001B[39;49m\u001B[43mmethod\u001B[49m\u001B[43m)\u001B[49m\u001B[43m,\u001B[49m\u001B[43m \u001B[49m\u001B[43maxis\u001B[49m\u001B[38;5;241;43m=\u001B[39;49m\u001B[43maxis\u001B[49m\u001B[43m)\u001B[49m\n\u001B[0;32m  11297\u001B[0m \u001B[38;5;28;01mif\u001B[39;00m numeric_only:\n\u001B[0;32m  11298\u001B[0m     other \u001B[38;5;241m=\u001B[39m other\u001B[38;5;241m.\u001B[39m_get_numeric_data()\n",
      "File \u001B[1;32mD:\\ljs\\anaconda3\\lib\\site-packages\\pandas\\core\\frame.py:10374\u001B[0m, in \u001B[0;36mDataFrame.apply\u001B[1;34m(self, func, axis, raw, result_type, args, by_row, engine, engine_kwargs, **kwargs)\u001B[0m\n\u001B[0;32m  10360\u001B[0m \u001B[38;5;28;01mfrom\u001B[39;00m \u001B[38;5;21;01mpandas\u001B[39;00m\u001B[38;5;21;01m.\u001B[39;00m\u001B[38;5;21;01mcore\u001B[39;00m\u001B[38;5;21;01m.\u001B[39;00m\u001B[38;5;21;01mapply\u001B[39;00m \u001B[38;5;28;01mimport\u001B[39;00m frame_apply\n\u001B[0;32m  10362\u001B[0m op \u001B[38;5;241m=\u001B[39m frame_apply(\n\u001B[0;32m  10363\u001B[0m     \u001B[38;5;28mself\u001B[39m,\n\u001B[0;32m  10364\u001B[0m     func\u001B[38;5;241m=\u001B[39mfunc,\n\u001B[1;32m   (...)\u001B[0m\n\u001B[0;32m  10372\u001B[0m     kwargs\u001B[38;5;241m=\u001B[39mkwargs,\n\u001B[0;32m  10373\u001B[0m )\n\u001B[1;32m> 10374\u001B[0m \u001B[38;5;28;01mreturn\u001B[39;00m \u001B[43mop\u001B[49m\u001B[38;5;241;43m.\u001B[39;49m\u001B[43mapply\u001B[49m\u001B[43m(\u001B[49m\u001B[43m)\u001B[49m\u001B[38;5;241m.\u001B[39m__finalize__(\u001B[38;5;28mself\u001B[39m, method\u001B[38;5;241m=\u001B[39m\u001B[38;5;124m\"\u001B[39m\u001B[38;5;124mapply\u001B[39m\u001B[38;5;124m\"\u001B[39m)\n",
      "File \u001B[1;32mD:\\ljs\\anaconda3\\lib\\site-packages\\pandas\\core\\apply.py:916\u001B[0m, in \u001B[0;36mFrameApply.apply\u001B[1;34m(self)\u001B[0m\n\u001B[0;32m    913\u001B[0m \u001B[38;5;28;01melif\u001B[39;00m \u001B[38;5;28mself\u001B[39m\u001B[38;5;241m.\u001B[39mraw:\n\u001B[0;32m    914\u001B[0m     \u001B[38;5;28;01mreturn\u001B[39;00m \u001B[38;5;28mself\u001B[39m\u001B[38;5;241m.\u001B[39mapply_raw(engine\u001B[38;5;241m=\u001B[39m\u001B[38;5;28mself\u001B[39m\u001B[38;5;241m.\u001B[39mengine, engine_kwargs\u001B[38;5;241m=\u001B[39m\u001B[38;5;28mself\u001B[39m\u001B[38;5;241m.\u001B[39mengine_kwargs)\n\u001B[1;32m--> 916\u001B[0m \u001B[38;5;28;01mreturn\u001B[39;00m \u001B[38;5;28;43mself\u001B[39;49m\u001B[38;5;241;43m.\u001B[39;49m\u001B[43mapply_standard\u001B[49m\u001B[43m(\u001B[49m\u001B[43m)\u001B[49m\n",
      "File \u001B[1;32mD:\\ljs\\anaconda3\\lib\\site-packages\\pandas\\core\\apply.py:1063\u001B[0m, in \u001B[0;36mFrameApply.apply_standard\u001B[1;34m(self)\u001B[0m\n\u001B[0;32m   1061\u001B[0m \u001B[38;5;28;01mdef\u001B[39;00m \u001B[38;5;21mapply_standard\u001B[39m(\u001B[38;5;28mself\u001B[39m):\n\u001B[0;32m   1062\u001B[0m     \u001B[38;5;28;01mif\u001B[39;00m \u001B[38;5;28mself\u001B[39m\u001B[38;5;241m.\u001B[39mengine \u001B[38;5;241m==\u001B[39m \u001B[38;5;124m\"\u001B[39m\u001B[38;5;124mpython\u001B[39m\u001B[38;5;124m\"\u001B[39m:\n\u001B[1;32m-> 1063\u001B[0m         results, res_index \u001B[38;5;241m=\u001B[39m \u001B[38;5;28;43mself\u001B[39;49m\u001B[38;5;241;43m.\u001B[39;49m\u001B[43mapply_series_generator\u001B[49m\u001B[43m(\u001B[49m\u001B[43m)\u001B[49m\n\u001B[0;32m   1064\u001B[0m     \u001B[38;5;28;01melse\u001B[39;00m:\n\u001B[0;32m   1065\u001B[0m         results, res_index \u001B[38;5;241m=\u001B[39m \u001B[38;5;28mself\u001B[39m\u001B[38;5;241m.\u001B[39mapply_series_numba()\n",
      "File \u001B[1;32mD:\\ljs\\anaconda3\\lib\\site-packages\\pandas\\core\\apply.py:1081\u001B[0m, in \u001B[0;36mFrameApply.apply_series_generator\u001B[1;34m(self)\u001B[0m\n\u001B[0;32m   1078\u001B[0m \u001B[38;5;28;01mwith\u001B[39;00m option_context(\u001B[38;5;124m\"\u001B[39m\u001B[38;5;124mmode.chained_assignment\u001B[39m\u001B[38;5;124m\"\u001B[39m, \u001B[38;5;28;01mNone\u001B[39;00m):\n\u001B[0;32m   1079\u001B[0m     \u001B[38;5;28;01mfor\u001B[39;00m i, v \u001B[38;5;129;01min\u001B[39;00m \u001B[38;5;28menumerate\u001B[39m(series_gen):\n\u001B[0;32m   1080\u001B[0m         \u001B[38;5;66;03m# ignore SettingWithCopy here in case the user mutates\u001B[39;00m\n\u001B[1;32m-> 1081\u001B[0m         results[i] \u001B[38;5;241m=\u001B[39m \u001B[38;5;28mself\u001B[39m\u001B[38;5;241m.\u001B[39mfunc(v, \u001B[38;5;241m*\u001B[39m\u001B[38;5;28mself\u001B[39m\u001B[38;5;241m.\u001B[39margs, \u001B[38;5;241m*\u001B[39m\u001B[38;5;241m*\u001B[39m\u001B[38;5;28mself\u001B[39m\u001B[38;5;241m.\u001B[39mkwargs)\n\u001B[0;32m   1082\u001B[0m         \u001B[38;5;28;01mif\u001B[39;00m \u001B[38;5;28misinstance\u001B[39m(results[i], ABCSeries):\n\u001B[0;32m   1083\u001B[0m             \u001B[38;5;66;03m# If we have a view on v, we need to make a copy because\u001B[39;00m\n\u001B[0;32m   1084\u001B[0m             \u001B[38;5;66;03m#  series_generator will swap out the underlying data\u001B[39;00m\n\u001B[0;32m   1085\u001B[0m             results[i] \u001B[38;5;241m=\u001B[39m results[i]\u001B[38;5;241m.\u001B[39mcopy(deep\u001B[38;5;241m=\u001B[39m\u001B[38;5;28;01mFalse\u001B[39;00m)\n",
      "File \u001B[1;32mD:\\ljs\\anaconda3\\lib\\site-packages\\pandas\\core\\frame.py:11295\u001B[0m, in \u001B[0;36mDataFrame.corrwith.<locals>.<lambda>\u001B[1;34m(x)\u001B[0m\n\u001B[0;32m  11292\u001B[0m this \u001B[38;5;241m=\u001B[39m \u001B[38;5;28mself\u001B[39m\u001B[38;5;241m.\u001B[39m_get_numeric_data() \u001B[38;5;28;01mif\u001B[39;00m numeric_only \u001B[38;5;28;01melse\u001B[39;00m \u001B[38;5;28mself\u001B[39m\n\u001B[0;32m  11294\u001B[0m \u001B[38;5;28;01mif\u001B[39;00m \u001B[38;5;28misinstance\u001B[39m(other, Series):\n\u001B[1;32m> 11295\u001B[0m     \u001B[38;5;28;01mreturn\u001B[39;00m this\u001B[38;5;241m.\u001B[39mapply(\u001B[38;5;28;01mlambda\u001B[39;00m x: \u001B[43mother\u001B[49m\u001B[38;5;241;43m.\u001B[39;49m\u001B[43mcorr\u001B[49m\u001B[43m(\u001B[49m\u001B[43mx\u001B[49m\u001B[43m,\u001B[49m\u001B[43m \u001B[49m\u001B[43mmethod\u001B[49m\u001B[38;5;241;43m=\u001B[39;49m\u001B[43mmethod\u001B[49m\u001B[43m)\u001B[49m, axis\u001B[38;5;241m=\u001B[39maxis)\n\u001B[0;32m  11297\u001B[0m \u001B[38;5;28;01mif\u001B[39;00m numeric_only:\n\u001B[0;32m  11298\u001B[0m     other \u001B[38;5;241m=\u001B[39m other\u001B[38;5;241m.\u001B[39m_get_numeric_data()\n",
      "File \u001B[1;32mD:\\ljs\\anaconda3\\lib\\site-packages\\pandas\\core\\series.py:2974\u001B[0m, in \u001B[0;36mSeries.corr\u001B[1;34m(self, other, method, min_periods)\u001B[0m\n\u001B[0;32m   2971\u001B[0m     \u001B[38;5;28;01mreturn\u001B[39;00m np\u001B[38;5;241m.\u001B[39mnan\n\u001B[0;32m   2973\u001B[0m this_values \u001B[38;5;241m=\u001B[39m this\u001B[38;5;241m.\u001B[39mto_numpy(dtype\u001B[38;5;241m=\u001B[39m\u001B[38;5;28mfloat\u001B[39m, na_value\u001B[38;5;241m=\u001B[39mnp\u001B[38;5;241m.\u001B[39mnan, copy\u001B[38;5;241m=\u001B[39m\u001B[38;5;28;01mFalse\u001B[39;00m)\n\u001B[1;32m-> 2974\u001B[0m other_values \u001B[38;5;241m=\u001B[39m \u001B[43mother\u001B[49m\u001B[38;5;241;43m.\u001B[39;49m\u001B[43mto_numpy\u001B[49m\u001B[43m(\u001B[49m\u001B[43mdtype\u001B[49m\u001B[38;5;241;43m=\u001B[39;49m\u001B[38;5;28;43mfloat\u001B[39;49m\u001B[43m,\u001B[49m\u001B[43m \u001B[49m\u001B[43mna_value\u001B[49m\u001B[38;5;241;43m=\u001B[39;49m\u001B[43mnp\u001B[49m\u001B[38;5;241;43m.\u001B[39;49m\u001B[43mnan\u001B[49m\u001B[43m,\u001B[49m\u001B[43m \u001B[49m\u001B[43mcopy\u001B[49m\u001B[38;5;241;43m=\u001B[39;49m\u001B[38;5;28;43;01mFalse\u001B[39;49;00m\u001B[43m)\u001B[49m\n\u001B[0;32m   2976\u001B[0m \u001B[38;5;28;01mif\u001B[39;00m method \u001B[38;5;129;01min\u001B[39;00m [\u001B[38;5;124m\"\u001B[39m\u001B[38;5;124mpearson\u001B[39m\u001B[38;5;124m\"\u001B[39m, \u001B[38;5;124m\"\u001B[39m\u001B[38;5;124mspearman\u001B[39m\u001B[38;5;124m\"\u001B[39m, \u001B[38;5;124m\"\u001B[39m\u001B[38;5;124mkendall\u001B[39m\u001B[38;5;124m\"\u001B[39m] \u001B[38;5;129;01mor\u001B[39;00m \u001B[38;5;28mcallable\u001B[39m(method):\n\u001B[0;32m   2977\u001B[0m     \u001B[38;5;28;01mreturn\u001B[39;00m nanops\u001B[38;5;241m.\u001B[39mnancorr(\n\u001B[0;32m   2978\u001B[0m         this_values, other_values, method\u001B[38;5;241m=\u001B[39mmethod, min_periods\u001B[38;5;241m=\u001B[39mmin_periods\n\u001B[0;32m   2979\u001B[0m     )\n",
      "File \u001B[1;32mD:\\ljs\\anaconda3\\lib\\site-packages\\pandas\\core\\base.py:662\u001B[0m, in \u001B[0;36mIndexOpsMixin.to_numpy\u001B[1;34m(self, dtype, copy, na_value, **kwargs)\u001B[0m\n\u001B[0;32m    658\u001B[0m         values \u001B[38;5;241m=\u001B[39m values\u001B[38;5;241m.\u001B[39mcopy()\n\u001B[0;32m    660\u001B[0m     values[np\u001B[38;5;241m.\u001B[39masanyarray(isna(\u001B[38;5;28mself\u001B[39m))] \u001B[38;5;241m=\u001B[39m na_value\n\u001B[1;32m--> 662\u001B[0m result \u001B[38;5;241m=\u001B[39m \u001B[43mnp\u001B[49m\u001B[38;5;241;43m.\u001B[39;49m\u001B[43masarray\u001B[49m\u001B[43m(\u001B[49m\u001B[43mvalues\u001B[49m\u001B[43m,\u001B[49m\u001B[43m \u001B[49m\u001B[43mdtype\u001B[49m\u001B[38;5;241;43m=\u001B[39;49m\u001B[43mdtype\u001B[49m\u001B[43m)\u001B[49m\n\u001B[0;32m    664\u001B[0m \u001B[38;5;28;01mif\u001B[39;00m (copy \u001B[38;5;129;01mand\u001B[39;00m \u001B[38;5;129;01mnot\u001B[39;00m fillna) \u001B[38;5;129;01mor\u001B[39;00m (\u001B[38;5;129;01mnot\u001B[39;00m copy \u001B[38;5;129;01mand\u001B[39;00m using_copy_on_write()):\n\u001B[0;32m    665\u001B[0m     \u001B[38;5;28;01mif\u001B[39;00m np\u001B[38;5;241m.\u001B[39mshares_memory(\u001B[38;5;28mself\u001B[39m\u001B[38;5;241m.\u001B[39m_values[:\u001B[38;5;241m2\u001B[39m], result[:\u001B[38;5;241m2\u001B[39m]):\n\u001B[0;32m    666\u001B[0m         \u001B[38;5;66;03m# Take slices to improve performance of check\u001B[39;00m\n",
      "\u001B[1;31mValueError\u001B[0m: could not convert string to float: '正常值'"
     ]
    }
   ],
   "source": [
    "x_train = data_train\n",
    "#计算协方差\n",
    "data_corr = x_train.corrwith(data_train.isDefault) #计算相关性\n",
    "result = pd.DataFrame(columns=['features', 'corr'])\n",
    "result['features'] = data_corr.index\n",
    "result['corr'] = data_corr.values"
   ],
   "metadata": {
    "collapsed": false
   }
  },
  {
   "cell_type": "code",
   "execution_count": 35,
   "outputs": [
    {
     "ename": "KeyError",
     "evalue": "\"['id'] not in index\"",
     "output_type": "error",
     "traceback": [
      "\u001B[1;31m---------------------------------------------------------------------------\u001B[0m",
      "\u001B[1;31mKeyError\u001B[0m                                  Traceback (most recent call last)",
      "Cell \u001B[1;32mIn[35], line 2\u001B[0m\n\u001B[0;32m      1\u001B[0m \u001B[38;5;66;03m# 当然也可以直接看图\u001B[39;00m\n\u001B[1;32m----> 2\u001B[0m data_numeric \u001B[38;5;241m=\u001B[39m \u001B[43mdata_train\u001B[49m\u001B[43m[\u001B[49m\u001B[43mnumerical_fea\u001B[49m\u001B[43m]\u001B[49m\n\u001B[0;32m      3\u001B[0m correlation \u001B[38;5;241m=\u001B[39m data_numeric\u001B[38;5;241m.\u001B[39mcorr()\n\u001B[0;32m      5\u001B[0m f , ax \u001B[38;5;241m=\u001B[39m plt\u001B[38;5;241m.\u001B[39msubplots(figsize \u001B[38;5;241m=\u001B[39m (\u001B[38;5;241m7\u001B[39m, \u001B[38;5;241m7\u001B[39m))\n",
      "File \u001B[1;32mD:\\ljs\\anaconda3\\lib\\site-packages\\pandas\\core\\frame.py:4108\u001B[0m, in \u001B[0;36mDataFrame.__getitem__\u001B[1;34m(self, key)\u001B[0m\n\u001B[0;32m   4106\u001B[0m     \u001B[38;5;28;01mif\u001B[39;00m is_iterator(key):\n\u001B[0;32m   4107\u001B[0m         key \u001B[38;5;241m=\u001B[39m \u001B[38;5;28mlist\u001B[39m(key)\n\u001B[1;32m-> 4108\u001B[0m     indexer \u001B[38;5;241m=\u001B[39m \u001B[38;5;28;43mself\u001B[39;49m\u001B[38;5;241;43m.\u001B[39;49m\u001B[43mcolumns\u001B[49m\u001B[38;5;241;43m.\u001B[39;49m\u001B[43m_get_indexer_strict\u001B[49m\u001B[43m(\u001B[49m\u001B[43mkey\u001B[49m\u001B[43m,\u001B[49m\u001B[43m \u001B[49m\u001B[38;5;124;43m\"\u001B[39;49m\u001B[38;5;124;43mcolumns\u001B[39;49m\u001B[38;5;124;43m\"\u001B[39;49m\u001B[43m)\u001B[49m[\u001B[38;5;241m1\u001B[39m]\n\u001B[0;32m   4110\u001B[0m \u001B[38;5;66;03m# take() does not accept boolean indexers\u001B[39;00m\n\u001B[0;32m   4111\u001B[0m \u001B[38;5;28;01mif\u001B[39;00m \u001B[38;5;28mgetattr\u001B[39m(indexer, \u001B[38;5;124m\"\u001B[39m\u001B[38;5;124mdtype\u001B[39m\u001B[38;5;124m\"\u001B[39m, \u001B[38;5;28;01mNone\u001B[39;00m) \u001B[38;5;241m==\u001B[39m \u001B[38;5;28mbool\u001B[39m:\n",
      "File \u001B[1;32mD:\\ljs\\anaconda3\\lib\\site-packages\\pandas\\core\\indexes\\base.py:6200\u001B[0m, in \u001B[0;36mIndex._get_indexer_strict\u001B[1;34m(self, key, axis_name)\u001B[0m\n\u001B[0;32m   6197\u001B[0m \u001B[38;5;28;01melse\u001B[39;00m:\n\u001B[0;32m   6198\u001B[0m     keyarr, indexer, new_indexer \u001B[38;5;241m=\u001B[39m \u001B[38;5;28mself\u001B[39m\u001B[38;5;241m.\u001B[39m_reindex_non_unique(keyarr)\n\u001B[1;32m-> 6200\u001B[0m \u001B[38;5;28;43mself\u001B[39;49m\u001B[38;5;241;43m.\u001B[39;49m\u001B[43m_raise_if_missing\u001B[49m\u001B[43m(\u001B[49m\u001B[43mkeyarr\u001B[49m\u001B[43m,\u001B[49m\u001B[43m \u001B[49m\u001B[43mindexer\u001B[49m\u001B[43m,\u001B[49m\u001B[43m \u001B[49m\u001B[43maxis_name\u001B[49m\u001B[43m)\u001B[49m\n\u001B[0;32m   6202\u001B[0m keyarr \u001B[38;5;241m=\u001B[39m \u001B[38;5;28mself\u001B[39m\u001B[38;5;241m.\u001B[39mtake(indexer)\n\u001B[0;32m   6203\u001B[0m \u001B[38;5;28;01mif\u001B[39;00m \u001B[38;5;28misinstance\u001B[39m(key, Index):\n\u001B[0;32m   6204\u001B[0m     \u001B[38;5;66;03m# GH 42790 - Preserve name from an Index\u001B[39;00m\n",
      "File \u001B[1;32mD:\\ljs\\anaconda3\\lib\\site-packages\\pandas\\core\\indexes\\base.py:6252\u001B[0m, in \u001B[0;36mIndex._raise_if_missing\u001B[1;34m(self, key, indexer, axis_name)\u001B[0m\n\u001B[0;32m   6249\u001B[0m     \u001B[38;5;28;01mraise\u001B[39;00m \u001B[38;5;167;01mKeyError\u001B[39;00m(\u001B[38;5;124mf\u001B[39m\u001B[38;5;124m\"\u001B[39m\u001B[38;5;124mNone of [\u001B[39m\u001B[38;5;132;01m{\u001B[39;00mkey\u001B[38;5;132;01m}\u001B[39;00m\u001B[38;5;124m] are in the [\u001B[39m\u001B[38;5;132;01m{\u001B[39;00maxis_name\u001B[38;5;132;01m}\u001B[39;00m\u001B[38;5;124m]\u001B[39m\u001B[38;5;124m\"\u001B[39m)\n\u001B[0;32m   6251\u001B[0m not_found \u001B[38;5;241m=\u001B[39m \u001B[38;5;28mlist\u001B[39m(ensure_index(key)[missing_mask\u001B[38;5;241m.\u001B[39mnonzero()[\u001B[38;5;241m0\u001B[39m]]\u001B[38;5;241m.\u001B[39munique())\n\u001B[1;32m-> 6252\u001B[0m \u001B[38;5;28;01mraise\u001B[39;00m \u001B[38;5;167;01mKeyError\u001B[39;00m(\u001B[38;5;124mf\u001B[39m\u001B[38;5;124m\"\u001B[39m\u001B[38;5;132;01m{\u001B[39;00mnot_found\u001B[38;5;132;01m}\u001B[39;00m\u001B[38;5;124m not in index\u001B[39m\u001B[38;5;124m\"\u001B[39m)\n",
      "\u001B[1;31mKeyError\u001B[0m: \"['id'] not in index\""
     ]
    }
   ],
   "source": [
    "# 当然也可以直接看图\n",
    "data_numeric = data_train[numerical_fea]\n",
    "correlation = data_numeric.corr()\n",
    "\n",
    "f , ax = plt.subplots(figsize = (7, 7))\n",
    "plt.title('Correlation of Numeric Features with Price',y=1,size=16)\n",
    "sns.heatmap(correlation,square = True,  vmax=0.8)"
   ],
   "metadata": {
    "collapsed": false
   }
  },
  {
   "cell_type": "code",
   "execution_count": 36,
   "outputs": [],
   "source": [
    "features = [f for f in data_train.columns if f not in ['id','issueDate','isDefault'] and '_outliers' not in f]\n",
    "x_train = data_train[features]\n",
    "x_test = data_test_a[features]\n",
    "y_train = data_train['isDefault']"
   ],
   "metadata": {
    "collapsed": false
   }
  },
  {
   "cell_type": "code",
   "execution_count": 37,
   "outputs": [
    {
     "data": {
      "text/plain": "Index(['loanAmnt', 'term', 'interestRate', 'installment', 'grade', 'subGrade',\n       'employmentTitle', 'employmentLength', 'homeOwnership', 'annualIncome',\n       'verificationStatus', 'purpose', 'postCode', 'regionCode', 'dti',\n       'delinquency_2years', 'ficoRangeLow', 'ficoRangeHigh', 'openAcc',\n       'pubRec', 'pubRecBankruptcies', 'revolBal', 'revolUtil', 'totalAcc',\n       'initialListStatus', 'applicationType', 'earliesCreditLine', 'title',\n       'policyCode', 'n0', 'n1', 'n2', 'n3', 'n4', 'n5', 'n6', 'n7', 'n8',\n       'n9', 'n10', 'n11', 'n12', 'n13', 'n14', 'issueDateDT',\n       'grade_target_mean', 'subGrade_target_mean', 'grade_to_mean_n0',\n       'grade_to_std_n0', 'grade_to_mean_n1', 'grade_to_std_n1',\n       'grade_to_mean_n2', 'grade_to_std_n2', 'grade_to_mean_n4',\n       'grade_to_std_n4', 'grade_to_mean_n5', 'grade_to_std_n5',\n       'grade_to_mean_n6', 'grade_to_std_n6', 'grade_to_mean_n7',\n       'grade_to_std_n7', 'grade_to_mean_n8', 'grade_to_std_n8',\n       'grade_to_mean_n9', 'grade_to_std_n9', 'grade_to_mean_n10',\n       'grade_to_std_n10', 'grade_to_mean_n11', 'grade_to_std_n11',\n       'grade_to_mean_n12', 'grade_to_std_n12', 'grade_to_mean_n13',\n       'grade_to_std_n13', 'grade_to_mean_n14', 'grade_to_std_n14'],\n      dtype='object')"
     },
     "execution_count": 37,
     "metadata": {},
     "output_type": "execute_result"
    }
   ],
   "source": [
    "x_train.columns"
   ],
   "metadata": {
    "collapsed": false
   }
  },
  {
   "cell_type": "code",
   "execution_count": 113,
   "outputs": [],
   "source": [
    "from lightgbm import log_evaluation,early_stopping"
   ],
   "metadata": {
    "collapsed": false
   }
  },
  {
   "cell_type": "code",
   "execution_count": 118,
   "outputs": [],
   "source": [
    "def cv_model(clf, train_x, train_y, test_x, clf_name):\n",
    "    folds = 5\n",
    "    seed = 2020\n",
    "    kf = KFold(n_splits=folds, shuffle=True, random_state=seed)\n",
    "\n",
    "    train = np.zeros(train_x.shape[0])\n",
    "    test = np.zeros(test_x.shape[0])\n",
    "\n",
    "    cv_scores = []\n",
    "\n",
    "    feature_importance_df = pd.DataFrame()\n",
    "\n",
    "    for i, (train_index, valid_index) in enumerate(kf.split(train_x, train_y)):\n",
    "        print('************************************ {} ************************************'.format(str(i + 1)))\n",
    "        trn_x, trn_y, val_x, val_y = train_x.iloc[train_index], train_y[train_index], train_x.iloc[valid_index], \\\n",
    "                                     train_y[valid_index]\n",
    "\n",
    "        if clf_name == \"lgb\":\n",
    "            train_matrix = clf.Dataset(trn_x, label=trn_y)\n",
    "            valid_matrix = clf.Dataset(val_x, label=val_y)\n",
    "\n",
    "            params = {\n",
    "                'boosting_type': 'gbdt',\n",
    "                'objective': 'binary',\n",
    "                'metric': 'auc',\n",
    "                'min_child_weight': 5,\n",
    "                'num_leaves': 2 ** 5,\n",
    "                'lambda_l2': 10,\n",
    "                'feature_fraction': 0.8,\n",
    "                'bagging_fraction': 0.8,\n",
    "                'bagging_freq': 4,\n",
    "                'learning_rate': 0.1,\n",
    "                'seed': 2020,\n",
    "                'nthread': 28,\n",
    "                'n_jobs': 24,\n",
    "                'silent': True,\n",
    "                'verbose': -1,\n",
    "            }\n",
    "\n",
    "            model = clf.train(params, train_matrix, 50000, valid_sets=[train_matrix, valid_matrix],\n",
    "                              callbacks=[log_evaluation(200),early_stopping(200)])\n",
    "            val_pred = model.predict(val_x, num_iteration=model.best_iteration)\n",
    "            test_pred = model.predict(test_x, num_iteration=model.best_iteration)\n",
    "\n",
    "            # 获取特征重要性\n",
    "            fold_importance_df = pd.DataFrame()\n",
    "            fold_importance_df[\"Feature\"] = trn_x.columns\n",
    "            fold_importance_df[\"importance\"] = model.feature_importance(importance_type='gain')\n",
    "            fold_importance_df[\"fold\"] = i + 1\n",
    "            feature_importance_df = pd.concat([feature_importance_df, fold_importance_df], axis=0)\n",
    "\n",
    "            # print(list(sorted(zip(features, model.feature_importance(\"gain\")), key=lambda x: x[1], reverse=True))[:20])\n",
    "\n",
    "        if clf_name == \"xgb\":\n",
    "            train_matrix = clf.DMatrix(trn_x, label=trn_y)\n",
    "            valid_matrix = clf.DMatrix(val_x, label=val_y)\n",
    "\n",
    "            params = {'booster': 'gbtree',\n",
    "                      'objective': 'binary:logistic',\n",
    "                      'eval_metric': 'auc',\n",
    "                      'gamma': 1,\n",
    "                      'min_child_weight': 1.5,\n",
    "                      'max_depth': 5,\n",
    "                      'lambda': 10,\n",
    "                      'subsample': 0.7,\n",
    "                      'colsample_bytree': 0.7,\n",
    "                      'colsample_bylevel': 0.7,\n",
    "                      'eta': 0.04,\n",
    "                      'tree_method': 'exact',\n",
    "                      'seed': 2020,\n",
    "                      'nthread': 36,\n",
    "                      \"silent\": True,\n",
    "                      }\n",
    "\n",
    "            watchlist = [(train_matrix, 'train'), (valid_matrix, 'eval')]\n",
    "\n",
    "            model = clf.train(params, train_matrix, num_boost_round=50000, evals=watchlist,\n",
    "                              verbose_eval=200,\n",
    "                              early_stopping_rounds=200)\n",
    "            val_pred = model.predict(valid_matrix, ntree_limit=model.best_ntree_limit)\n",
    "            test_pred = model.predict(test_x, ntree_limit=model.best_ntree_limit)\n",
    "\n",
    "        if clf_name == \"cat\":\n",
    "            params = {'learning_rate': 0.05, 'depth': 5, 'l2_leaf_reg': 10, 'bootstrap_type': 'Bernoulli',\n",
    "                      'od_type': 'Iter', 'od_wait': 50, 'random_seed': 11, 'allow_writing_files': False}\n",
    "\n",
    "            model = clf(iterations=20000, **params)\n",
    "            model.fit(trn_x, trn_y, eval_set=(val_x, val_y),\n",
    "                      cat_features=[], use_best_model=True, verbose=500)\n",
    "\n",
    "            val_pred = model.predict(val_x)\n",
    "            test_pred = model.predict(test_x)\n",
    "\n",
    "        train[valid_index] = val_pred\n",
    "        test += test_pred / kf.n_splits\n",
    "        cv_scores.append(roc_auc_score(val_y, val_pred))\n",
    "\n",
    "        print(cv_scores)\n",
    "\n",
    "    print(\"%s_scotrainre_list:\" % clf_name, cv_scores)\n",
    "    print(\"%s_score_mean:\" % clf_name, np.mean(cv_scores))\n",
    "    print(\"%s_score_std:\" % clf_name, np.std(cv_scores))\n",
    "    return train, test, feature_importance_df"
   ],
   "metadata": {
    "collapsed": false
   }
  },
  {
   "cell_type": "code",
   "execution_count": 119,
   "outputs": [],
   "source": [
    "def lgb_model(x_train, y_train, x_test):\n",
    "    lgb_train, lgb_test, feature_importance_df = cv_model(lgb, x_train, y_train, x_test, \"lgb\")\n",
    "    return lgb_train, lgb_test,feature_importance_df\n",
    "\n",
    "def xgb_model(x_train, y_train, x_test):\n",
    "    xgb_train, xgb_test = cv_model(xgb, x_train, y_train, x_test, \"xgb\")\n",
    "    return xgb_train, xgb_test\n",
    "\n",
    "def cat_model(x_train, y_train, x_test):\n",
    "    cat_train, cat_test = cv_model(CatBoostRegressor, x_train, y_train, x_test, \"cat\")"
   ],
   "metadata": {
    "collapsed": false
   }
  },
  {
   "cell_type": "code",
   "execution_count": 120,
   "outputs": [
    {
     "name": "stdout",
     "output_type": "stream",
     "text": [
      "************************************ 1 ************************************\n",
      "Training until validation scores don't improve for 200 rounds\n",
      "[200]\ttraining's auc: 0.749001\tvalid_1's auc: 0.729412\n",
      "[400]\ttraining's auc: 0.764745\tvalid_1's auc: 0.729985\n",
      "Early stopping, best iteration is:\n",
      "[353]\ttraining's auc: 0.76115\tvalid_1's auc: 0.730134\n",
      "[0.7301340661998823]\n",
      "************************************ 2 ************************************\n",
      "Training until validation scores don't improve for 200 rounds\n",
      "[200]\ttraining's auc: 0.749072\tvalid_1's auc: 0.73178\n",
      "[400]\ttraining's auc: 0.765001\tvalid_1's auc: 0.732312\n",
      "Early stopping, best iteration is:\n",
      "[323]\ttraining's auc: 0.75924\tvalid_1's auc: 0.732439\n",
      "[0.7301340661998823, 0.7324388140976568]\n",
      "************************************ 3 ************************************\n",
      "Training until validation scores don't improve for 200 rounds\n",
      "[200]\ttraining's auc: 0.748336\tvalid_1's auc: 0.732828\n",
      "[400]\ttraining's auc: 0.763526\tvalid_1's auc: 0.733414\n",
      "[600]\ttraining's auc: 0.777026\tvalid_1's auc: 0.733462\n",
      "Early stopping, best iteration is:\n",
      "[556]\ttraining's auc: 0.774246\tvalid_1's auc: 0.733604\n",
      "[0.7301340661998823, 0.7324388140976568, 0.7336044101706046]\n",
      "************************************ 4 ************************************\n",
      "Training until validation scores don't improve for 200 rounds\n",
      "[200]\ttraining's auc: 0.749403\tvalid_1's auc: 0.72738\n",
      "[400]\ttraining's auc: 0.765168\tvalid_1's auc: 0.728123\n",
      "[600]\ttraining's auc: 0.778698\tvalid_1's auc: 0.728007\n",
      "Early stopping, best iteration is:\n",
      "[555]\ttraining's auc: 0.775987\tvalid_1's auc: 0.728126\n",
      "[0.7301340661998823, 0.7324388140976568, 0.7336044101706046, 0.7281255409624847]\n",
      "************************************ 5 ************************************\n",
      "Training until validation scores don't improve for 200 rounds\n",
      "[200]\ttraining's auc: 0.748543\tvalid_1's auc: 0.732637\n",
      "[400]\ttraining's auc: 0.764314\tvalid_1's auc: 0.73324\n",
      "[600]\ttraining's auc: 0.778317\tvalid_1's auc: 0.733332\n",
      "Early stopping, best iteration is:\n",
      "[509]\ttraining's auc: 0.772092\tvalid_1's auc: 0.733532\n",
      "[0.7301340661998823, 0.7324388140976568, 0.7336044101706046, 0.7281255409624847, 0.7335319758429528]\n",
      "lgb_scotrainre_list: [0.7301340661998823, 0.7324388140976568, 0.7336044101706046, 0.7281255409624847, 0.7335319758429528]\n",
      "lgb_score_mean: 0.7315669614547162\n",
      "lgb_score_std: 0.002129280144205128\n"
     ]
    }
   ],
   "source": [
    "lgb_train, lgb_test,feature_importance_df= lgb_model(x_train, y_train, x_test)"
   ],
   "metadata": {
    "collapsed": false
   }
  },
  {
   "cell_type": "code",
   "execution_count": 117,
   "outputs": [
    {
     "data": {
      "text/plain": "(612742, 75)"
     },
     "execution_count": 117,
     "metadata": {},
     "output_type": "execute_result"
    }
   ],
   "source": [
    "x_train.shape"
   ],
   "metadata": {
    "collapsed": false
   }
  },
  {
   "cell_type": "code",
   "execution_count": 123,
   "outputs": [
    {
     "data": {
      "text/plain": "<Figure size 1400x1000 with 1 Axes>",
      "image/png": "[encoded data removed]"
     },
     "metadata": {},
     "output_type": "display_data"
    }
   ],
   "source": [
    "def plot_feature_importance(feature_importance_df):\n",
    "    cols = (feature_importance_df[[\"Feature\", \"importance\"]]\n",
    "            .groupby(\"Feature\")\n",
    "            .mean()\n",
    "            .sort_values(by=\"importance\", ascending=False)[:20].index)\n",
    "\n",
    "    best_features = feature_importance_df.loc[feature_importance_df.Feature.isin(cols)]\n",
    "\n",
    "    plt.figure(figsize=(14, 10))\n",
    "    sns.barplot(x=\"importance\", y=\"Feature\", data=best_features.sort_values(by=\"importance\", ascending=False))\n",
    "    plt.title('LightGBM Features (avg over folds)')\n",
    "    plt.tight_layout()\n",
    "    plt.show()\n",
    "\n",
    "plot_feature_importance(feature_importance_df)"
   ],
   "metadata": {
    "collapsed": false
   }
  },
  {
   "cell_type": "markdown",
   "source": [
    "选择特征的方法\n",
    "基于阈值筛选：\n",
    "你可以设定一个特征重要性的阈值（例如，只保留重要性得分大于某个值的特征）。\n",
    "基于排名筛选：\n",
    "你可以选择前 N 个最重要的特征（例如，选择前 20 个特征）。\n",
    "基于累积重要性筛选：\n",
    "你可以计算特征重要性的累积贡献率，选择累积贡献率达到一定比例（例如，90%）的特征。\n"
   ],
   "metadata": {
    "collapsed": false
   }
  },
  {
   "cell_type": "code",
   "execution_count": 125,
   "outputs": [
    {
     "name": "stdout",
     "output_type": "stream",
     "text": [
      "                        importance\n",
      "Feature                           \n",
      "subGrade              80889.496983\n",
      "grade_to_mean_n4      25801.699834\n",
      "issueDateDT           24526.722871\n",
      "term                  13624.295223\n",
      "annualIncome          11673.733643\n",
      "dti                   11654.621192\n",
      "grade_to_mean_n7      10653.399197\n",
      "grade_to_std_n4        9328.661741\n",
      "revolBal               9210.618260\n",
      "homeOwnership          8561.319081\n",
      "employmentTitle        8249.154168\n",
      "loanAmnt               7536.842753\n",
      "installment            7374.363437\n",
      "regionCode             6955.368591\n",
      "subGrade_target_mean   6594.520348\n",
      "ficoRangeLow           6133.493812\n",
      "revolUtil              5638.362861\n",
      "earliesCreditLine      5153.180718\n",
      "grade_to_mean_n8       5084.496854\n",
      "postCode               4928.623532\n",
      "totalAcc               4430.741951\n",
      "n2                     4172.232354\n",
      "interestRate           4023.687574\n",
      "n14                    3598.921870\n",
      "grade_to_std_n6        2885.192515\n",
      "grade_to_mean_n10      2872.269515\n",
      "n6                     2794.145134\n",
      "employmentLength       2635.856534\n",
      "grade_to_std_n8        2435.697461\n",
      "title                  2372.740940\n"
     ]
    }
   ],
   "source": [
    "# 计算每个特征的平均重要性得分\n",
    "mean_feature_importance = (feature_importance_df[[\"Feature\", \"importance\"]]\n",
    "                           .groupby(\"Feature\")\n",
    "                           .mean()\n",
    "                           .sort_values(by=\"importance\", ascending=False))\n",
    "\n",
    "# 显示前30个最重要的特征\n",
    "top_30_features = mean_feature_importance.head(30)\n",
    "print(top_30_features)"
   ],
   "metadata": {
    "collapsed": false
   }
  },
  {
   "cell_type": "code",
   "execution_count": null,
   "outputs": [],
   "source": [],
   "metadata": {
    "collapsed": false
   }
  }
 ],
 "metadata": {
  "kernelspec": {
   "display_name": "Python 3",
   "language": "python",
   "name": "python3"
  },
  "language_info": {
   "codemirror_mode": {
    "name": "ipython",
    "version": 2
   },
   "file_extension": ".py",
   "mimetype": "text/x-python",
   "name": "python",
   "nbconvert_exporter": "python",
   "pygments_lexer": "ipython2",
   "version": "2.7.6"
  }
 },
 "nbformat": 4,
 "nbformat_minor": 0
}
