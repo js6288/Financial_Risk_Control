{
 "cells": [
  {
   "cell_type": "markdown",
   "id": "c0e245a2f1e9dbae",
   "metadata": {},
   "source": [
    "# 使用heamy模块进行模型在线融合\n"
   ]
  },
  {
   "cell_type": "code",
   "id": "564bb2e460501297",
   "metadata": {
    "ExecuteTime": {
     "end_time": "2025-03-07T07:46:01.773787Z",
     "start_time": "2025-03-07T07:46:01.761897Z"
    }
   },
   "source": [
    "import pandas as pd\n",
    "import numpy as np\n",
    "import warnings\n",
    "import os\n",
    "warnings.filterwarnings('ignore')"
   ],
   "outputs": [],
   "execution_count": 2
  },
  {
   "cell_type": "code",
   "id": "547dc68fb0c65759",
   "metadata": {
    "ExecuteTime": {
     "end_time": "2025-03-07T07:46:03.134746Z",
     "start_time": "2025-03-07T07:46:03.120744Z"
    }
   },
   "source": [
    "# import pandas as pd\n",
    "import seaborn as sns\n",
    "import matplotlib.pyplot as plt\n",
    "\"\"\"\n",
    "sns 相关设置\n",
    "@return:\n",
    "\"\"\"\n",
    "# 声明使用 Seaborn 样式\n",
    "sns.set()\n",
    "# 有五种seaborn的绘图风格，它们分别是：darkgrid, whitegrid, dark, white, ticks。默认的主题是darkgrid。\n",
    "sns.set_style(\"whitegrid\")\n",
    "# 有四个预置的环境，按大小从小到大排列分别为：paper, notebook, talk, poster。其中，notebook是默认的。\n",
    "sns.set_context('talk')\n",
    "# 中文字体设置-黑体\n",
    "plt.rcParams['font.sans-serif'] = ['SimHei']\n",
    "# 解决保存图像是负号'-'显示为方块的问题\n",
    "plt.rcParams['axes.unicode_minus'] = False\n",
    "# 解决Seaborn中文显示问题并调整字体大小\n",
    "sns.set(font='SimHei')"
   ],
   "outputs": [],
   "execution_count": 3
  },
  {
   "cell_type": "markdown",
   "id": "b99c4abc21edafc4",
   "metadata": {},
   "source": [
    "数据读取"
   ]
  },
  {
   "cell_type": "code",
   "id": "8a42615e96624d34",
   "metadata": {
    "ExecuteTime": {
     "end_time": "2025-03-07T07:46:16.720265Z",
     "start_time": "2025-03-07T07:46:06.838643Z"
    }
   },
   "source": [
    "from utils_jessie import reduce_mem_usage\n",
    "df_data = pd.read_csv('user_data/data_for_model.csv')\n",
    "df_data = reduce_mem_usage(df_data)"
   ],
   "outputs": [
    {
     "name": "stdout",
     "output_type": "stream",
     "text": [
      "Memory usage of dataframe is 440.60 MB\n",
      "Memory usage after optimization is: 288.01 MB\n",
      "Decreased by 34.6%\n"
     ]
    }
   ],
   "execution_count": 4
  },
  {
   "cell_type": "markdown",
   "id": "c73c96b4a54873f0",
   "metadata": {},
   "source": [
    "数据处理"
   ]
  },
  {
   "cell_type": "code",
   "id": "12c4a65d50eff1a",
   "metadata": {
    "ExecuteTime": {
     "end_time": "2025-03-07T07:46:19.964881Z",
     "start_time": "2025-03-07T07:46:18.762757Z"
    }
   },
   "source": [
    "# 分离数据集\n",
    "features = [f for f in df_data.columns if f not in ['id','issueDate','isDefault']]\n",
    "\n",
    "train = df_data[df_data.isDefault.notnull()].reset_index(drop=True)\n",
    "test = df_data[df_data.isDefault.isnull()].reset_index(drop=True)\n",
    "\n",
    "X_train = train[features]\n",
    "X_test = test[features]\n",
    "\n",
    "y_train = train['isDefault']"
   ],
   "outputs": [],
   "execution_count": 5
  },
  {
   "cell_type": "code",
   "id": "70a3b5c32fa0652c",
   "metadata": {
    "ExecuteTime": {
     "end_time": "2025-03-07T07:46:20.759818Z",
     "start_time": "2025-03-07T07:46:20.745819Z"
    }
   },
   "source": [
    "from model_utils import xgb_model,lgb_model"
   ],
   "outputs": [],
   "execution_count": 6
  },
  {
   "cell_type": "code",
   "id": "f19ee9d9d0e3aae5",
   "metadata": {
    "ExecuteTime": {
     "end_time": "2025-03-07T07:46:36.724462Z",
     "start_time": "2025-03-07T07:46:36.695677Z"
    }
   },
   "source": [
    "from heamy.dataset import Dataset\n",
    "from heamy.estimator import Classifier\n",
    "\n",
    "model_dataset = Dataset(X_train=X_train, y_train=y_train, X_test=X_test)\n",
    "model_xgb = Classifier(dataset=model_dataset, estimator=xgb_model, name='xgb', use_cache=False)\n",
    "model_lgb = Classifier(dataset=model_dataset, estimator=lgb_model, name='lgb', use_cache=False)\n"
   ],
   "outputs": [],
   "execution_count": 7
  },
  {
   "cell_type": "markdown",
   "id": "1d66a992f7049140",
   "metadata": {},
   "source": [
    "## 使用stacking 方法进行模型融合"
   ]
  },
  {
   "cell_type": "code",
   "id": "10b3d4b26a8b1ae9",
   "metadata": {
    "ExecuteTime": {
     "end_time": "2025-03-07T07:46:55.580938Z",
     "start_time": "2025-03-07T07:46:55.568616Z"
    }
   },
   "source": [
    "from heamy.pipeline import ModelsPipeline\n",
    "pipeline = ModelsPipeline(model_xgb, model_lgb)\n",
    "pipeline"
   ],
   "outputs": [
    {
     "data": {
      "text/plain": [
       "<heamy.pipeline.ModelsPipeline at 0x25b55813520>"
      ]
     },
     "execution_count": 8,
     "metadata": {},
     "output_type": "execute_result"
    }
   ],
   "execution_count": 8
  },
  {
   "cell_type": "code",
   "id": "ea8a156a359a3ed1",
   "metadata": {
    "ExecuteTime": {
     "end_time": "2025-03-07T09:30:07.958756Z",
     "start_time": "2025-03-07T07:46:57.951007Z"
    }
   },
   "source": [
    "# 构建第一层新特征，其中k默认是5，表示5折交叉验证，full_test=True，对全部训练集进行训练得到基学习器，然后用基学习器对测试集预测得到新特征\n",
    "stack_ds = pipeline.stack(k=5,seed=111,full_test=True)"
   ],
   "outputs": [
    {
     "name": "stdout",
     "output_type": "stream",
     "text": [
      "[0]\ttrain-auc:0.69328\teval-auc:0.69336\n",
      "[200]\ttrain-auc:0.72887\teval-auc:0.72258\n",
      "[400]\ttrain-auc:0.73668\teval-auc:0.72614\n",
      "[600]\ttrain-auc:0.74262\teval-auc:0.72811\n",
      "[800]\ttrain-auc:0.74741\teval-auc:0.72919\n",
      "[1000]\ttrain-auc:0.75174\teval-auc:0.72982\n",
      "[1200]\ttrain-auc:0.75569\teval-auc:0.73016\n",
      "[1400]\ttrain-auc:0.75959\teval-auc:0.73059\n",
      "[1600]\ttrain-auc:0.76310\teval-auc:0.73081\n",
      "[1800]\ttrain-auc:0.76664\teval-auc:0.73099\n",
      "[2000]\ttrain-auc:0.77010\teval-auc:0.73103\n",
      "[2176]\ttrain-auc:0.77298\teval-auc:0.73102\n",
      "调参后xgboost单模型在验证集上的AUC：0.7310387122418293\n",
      "[0]\ttrain-auc:0.69476\teval-auc:0.69305\n",
      "[200]\ttrain-auc:0.72904\teval-auc:0.72335\n",
      "[400]\ttrain-auc:0.73701\teval-auc:0.72687\n",
      "[600]\ttrain-auc:0.74273\teval-auc:0.72852\n",
      "[800]\ttrain-auc:0.74759\teval-auc:0.72969\n",
      "[1000]\ttrain-auc:0.75187\teval-auc:0.73032\n",
      "[1200]\ttrain-auc:0.75594\teval-auc:0.73085\n",
      "[1400]\ttrain-auc:0.75971\teval-auc:0.73106\n",
      "[1600]\ttrain-auc:0.76317\teval-auc:0.73120\n",
      "[1800]\ttrain-auc:0.76646\teval-auc:0.73136\n",
      "[2000]\ttrain-auc:0.76989\teval-auc:0.73143\n",
      "[2200]\ttrain-auc:0.77310\teval-auc:0.73151\n",
      "[2400]\ttrain-auc:0.77626\teval-auc:0.73153\n",
      "[2543]\ttrain-auc:0.77852\teval-auc:0.73153\n",
      "调参后xgboost单模型在验证集上的AUC：0.7315921873016147\n",
      "[0]\ttrain-auc:0.69278\teval-auc:0.69107\n",
      "[200]\ttrain-auc:0.72870\teval-auc:0.72183\n",
      "[400]\ttrain-auc:0.73671\teval-auc:0.72567\n",
      "[600]\ttrain-auc:0.74249\teval-auc:0.72753\n",
      "[800]\ttrain-auc:0.74714\teval-auc:0.72864\n",
      "[1000]\ttrain-auc:0.75127\teval-auc:0.72922\n",
      "[1200]\ttrain-auc:0.75517\teval-auc:0.72968\n",
      "[1400]\ttrain-auc:0.75891\teval-auc:0.72997\n",
      "[1600]\ttrain-auc:0.76271\teval-auc:0.73027\n",
      "[1800]\ttrain-auc:0.76614\teval-auc:0.73039\n",
      "[2000]\ttrain-auc:0.76949\teval-auc:0.73053\n",
      "[2200]\ttrain-auc:0.77276\teval-auc:0.73064\n",
      "[2400]\ttrain-auc:0.77588\teval-auc:0.73055\n",
      "[2453]\ttrain-auc:0.77669\teval-auc:0.73053\n",
      "调参后xgboost单模型在验证集上的AUC：0.7306673620343822\n",
      "[0]\ttrain-auc:0.69266\teval-auc:0.69488\n",
      "[200]\ttrain-auc:0.72815\teval-auc:0.72441\n",
      "[400]\ttrain-auc:0.73593\teval-auc:0.72767\n",
      "[600]\ttrain-auc:0.74176\teval-auc:0.72954\n",
      "[800]\ttrain-auc:0.74665\teval-auc:0.73041\n",
      "[1000]\ttrain-auc:0.75105\teval-auc:0.73103\n",
      "[1200]\ttrain-auc:0.75513\teval-auc:0.73148\n",
      "[1400]\ttrain-auc:0.75896\teval-auc:0.73186\n",
      "[1600]\ttrain-auc:0.76274\teval-auc:0.73209\n",
      "[1800]\ttrain-auc:0.76625\teval-auc:0.73221\n",
      "[2000]\ttrain-auc:0.76965\teval-auc:0.73231\n",
      "[2200]\ttrain-auc:0.77295\teval-auc:0.73246\n",
      "[2397]\ttrain-auc:0.77608\teval-auc:0.73246\n",
      "调参后xgboost单模型在验证集上的AUC：0.7324626673432305\n",
      "[0]\ttrain-auc:0.69297\teval-auc:0.69058\n",
      "[200]\ttrain-auc:0.72871\teval-auc:0.72315\n",
      "[400]\ttrain-auc:0.73678\teval-auc:0.72692\n",
      "[600]\ttrain-auc:0.74249\teval-auc:0.72864\n",
      "[800]\ttrain-auc:0.74736\teval-auc:0.72966\n",
      "[1000]\ttrain-auc:0.75158\teval-auc:0.73035\n",
      "[1200]\ttrain-auc:0.75574\teval-auc:0.73088\n",
      "[1400]\ttrain-auc:0.75931\teval-auc:0.73115\n",
      "[1600]\ttrain-auc:0.76298\teval-auc:0.73137\n",
      "[1800]\ttrain-auc:0.76643\teval-auc:0.73153\n",
      "[2000]\ttrain-auc:0.76972\teval-auc:0.73155\n",
      "[2030]\ttrain-auc:0.77016\teval-auc:0.73158\n",
      "调参后xgboost单模型在验证集上的AUC：0.7315916638387128\n",
      "[0]\ttrain-auc:0.69181\teval-auc:0.69190\n",
      "[200]\ttrain-auc:0.72785\teval-auc:0.72299\n",
      "[400]\ttrain-auc:0.73513\teval-auc:0.72682\n",
      "[600]\ttrain-auc:0.74031\teval-auc:0.72881\n",
      "[800]\ttrain-auc:0.74457\teval-auc:0.72995\n",
      "[1000]\ttrain-auc:0.74832\teval-auc:0.73079\n",
      "[1200]\ttrain-auc:0.75175\teval-auc:0.73132\n",
      "[1400]\ttrain-auc:0.75501\teval-auc:0.73159\n",
      "[1600]\ttrain-auc:0.75804\teval-auc:0.73183\n",
      "[1800]\ttrain-auc:0.76094\teval-auc:0.73199\n",
      "[2000]\ttrain-auc:0.76368\teval-auc:0.73210\n",
      "[2200]\ttrain-auc:0.76655\teval-auc:0.73213\n",
      "[2400]\ttrain-auc:0.76926\teval-auc:0.73226\n",
      "[2600]\ttrain-auc:0.77193\teval-auc:0.73235\n",
      "[2800]\ttrain-auc:0.77444\teval-auc:0.73242\n",
      "[2986]\ttrain-auc:0.77677\teval-auc:0.73238\n",
      "调参后xgboost单模型在验证集上的AUC：0.7324260132597187\n",
      "Training until validation scores don't improve for 500 rounds\n",
      "[500]\ttraining's auc: 0.726092\tvalid_1's auc: 0.722059\n",
      "[1000]\ttraining's auc: 0.733629\tvalid_1's auc: 0.726466\n",
      "[1500]\ttraining's auc: 0.738737\tvalid_1's auc: 0.7286\n",
      "[2000]\ttraining's auc: 0.742753\tvalid_1's auc: 0.729839\n",
      "[2500]\ttraining's auc: 0.746427\tvalid_1's auc: 0.7308\n",
      "[3000]\ttraining's auc: 0.749892\tvalid_1's auc: 0.731475\n",
      "[3500]\ttraining's auc: 0.752929\tvalid_1's auc: 0.731844\n",
      "[4000]\ttraining's auc: 0.755849\tvalid_1's auc: 0.732009\n",
      "[4500]\ttraining's auc: 0.758601\tvalid_1's auc: 0.732124\n",
      "Early stopping, best iteration is:\n",
      "[4149]\ttraining's auc: 0.756781\tvalid_1's auc: 0.732152\n",
      "调参后lightgbm单模型在验证集上的AUC：0.7321515990733285\n",
      "Training until validation scores don't improve for 500 rounds\n",
      "[500]\ttraining's auc: 0.726701\tvalid_1's auc: 0.721394\n",
      "[1000]\ttraining's auc: 0.734098\tvalid_1's auc: 0.725727\n",
      "[1500]\ttraining's auc: 0.739074\tvalid_1's auc: 0.72759\n",
      "[2000]\ttraining's auc: 0.743221\tvalid_1's auc: 0.728854\n",
      "[2500]\ttraining's auc: 0.746716\tvalid_1's auc: 0.729483\n",
      "[3000]\ttraining's auc: 0.749976\tvalid_1's auc: 0.730109\n",
      "[3500]\ttraining's auc: 0.75302\tvalid_1's auc: 0.730482\n",
      "[4000]\ttraining's auc: 0.755986\tvalid_1's auc: 0.73069\n",
      "[4500]\ttraining's auc: 0.758883\tvalid_1's auc: 0.730915\n",
      "[5000]\ttraining's auc: 0.761605\tvalid_1's auc: 0.731046\n",
      "[5500]\ttraining's auc: 0.764385\tvalid_1's auc: 0.731088\n",
      "[6000]\ttraining's auc: 0.766903\tvalid_1's auc: 0.731074\n",
      "[6500]\ttraining's auc: 0.769408\tvalid_1's auc: 0.731139\n",
      "[7000]\ttraining's auc: 0.77181\tvalid_1's auc: 0.731132\n",
      "[7500]\ttraining's auc: 0.774079\tvalid_1's auc: 0.731209\n",
      "[8000]\ttraining's auc: 0.776415\tvalid_1's auc: 0.731202\n",
      "Early stopping, best iteration is:\n",
      "[7798]\ttraining's auc: 0.775418\tvalid_1's auc: 0.731214\n",
      "调参后lightgbm单模型在验证集上的AUC：0.7312135814710539\n",
      "Training until validation scores don't improve for 500 rounds\n",
      "[500]\ttraining's auc: 0.726899\tvalid_1's auc: 0.719244\n",
      "[1000]\ttraining's auc: 0.734436\tvalid_1's auc: 0.723125\n",
      "[1500]\ttraining's auc: 0.739447\tvalid_1's auc: 0.725058\n",
      "[2000]\ttraining's auc: 0.743728\tvalid_1's auc: 0.726262\n",
      "[2500]\ttraining's auc: 0.747427\tvalid_1's auc: 0.72698\n",
      "[3000]\ttraining's auc: 0.750717\tvalid_1's auc: 0.727448\n",
      "[3500]\ttraining's auc: 0.753961\tvalid_1's auc: 0.727738\n",
      "[4000]\ttraining's auc: 0.756965\tvalid_1's auc: 0.728018\n",
      "[4500]\ttraining's auc: 0.759767\tvalid_1's auc: 0.728021\n",
      "Early stopping, best iteration is:\n",
      "[4114]\ttraining's auc: 0.757677\tvalid_1's auc: 0.728072\n",
      "调参后lightgbm单模型在验证集上的AUC：0.7280715456033395\n",
      "Training until validation scores don't improve for 500 rounds\n",
      "[500]\ttraining's auc: 0.725799\tvalid_1's auc: 0.72151\n",
      "[1000]\ttraining's auc: 0.733513\tvalid_1's auc: 0.726095\n",
      "[1500]\ttraining's auc: 0.738372\tvalid_1's auc: 0.728097\n",
      "[2000]\ttraining's auc: 0.742591\tvalid_1's auc: 0.729345\n",
      "[2500]\ttraining's auc: 0.746293\tvalid_1's auc: 0.730191\n",
      "[3000]\ttraining's auc: 0.749807\tvalid_1's auc: 0.730839\n",
      "[3500]\ttraining's auc: 0.752978\tvalid_1's auc: 0.73118\n",
      "[4000]\ttraining's auc: 0.755945\tvalid_1's auc: 0.731407\n",
      "[4500]\ttraining's auc: 0.758923\tvalid_1's auc: 0.731627\n",
      "[5000]\ttraining's auc: 0.761696\tvalid_1's auc: 0.731765\n",
      "[5500]\ttraining's auc: 0.764364\tvalid_1's auc: 0.731975\n",
      "[6000]\ttraining's auc: 0.767038\tvalid_1's auc: 0.732116\n",
      "Early stopping, best iteration is:\n",
      "[5953]\ttraining's auc: 0.766772\tvalid_1's auc: 0.732129\n",
      "调参后lightgbm单模型在验证集上的AUC：0.7321287957161643\n",
      "Training until validation scores don't improve for 500 rounds\n",
      "[500]\ttraining's auc: 0.725711\tvalid_1's auc: 0.724012\n",
      "[1000]\ttraining's auc: 0.733419\tvalid_1's auc: 0.728461\n",
      "[1500]\ttraining's auc: 0.738454\tvalid_1's auc: 0.7305\n",
      "[2000]\ttraining's auc: 0.742388\tvalid_1's auc: 0.731601\n",
      "[2500]\ttraining's auc: 0.746279\tvalid_1's auc: 0.732663\n",
      "[3000]\ttraining's auc: 0.749646\tvalid_1's auc: 0.733304\n",
      "[3500]\ttraining's auc: 0.752594\tvalid_1's auc: 0.733703\n",
      "[4000]\ttraining's auc: 0.75566\tvalid_1's auc: 0.734068\n",
      "[4500]\ttraining's auc: 0.758513\tvalid_1's auc: 0.734179\n",
      "[5000]\ttraining's auc: 0.761302\tvalid_1's auc: 0.734406\n",
      "[5500]\ttraining's auc: 0.764128\tvalid_1's auc: 0.734646\n",
      "[6000]\ttraining's auc: 0.766788\tvalid_1's auc: 0.734714\n",
      "[6500]\ttraining's auc: 0.76927\tvalid_1's auc: 0.73469\n",
      "Early stopping, best iteration is:\n",
      "[6283]\ttraining's auc: 0.768236\tvalid_1's auc: 0.734764\n",
      "调参后lightgbm单模型在验证集上的AUC：0.7347641867102475\n",
      "Training until validation scores don't improve for 500 rounds\n",
      "[500]\ttraining's auc: 0.72554\tvalid_1's auc: 0.721922\n",
      "[1000]\ttraining's auc: 0.732617\tvalid_1's auc: 0.726339\n",
      "[1500]\ttraining's auc: 0.737133\tvalid_1's auc: 0.728294\n",
      "[2000]\ttraining's auc: 0.740896\tvalid_1's auc: 0.729585\n",
      "[2500]\ttraining's auc: 0.744167\tvalid_1's auc: 0.730639\n",
      "[3000]\ttraining's auc: 0.747235\tvalid_1's auc: 0.731314\n",
      "[3500]\ttraining's auc: 0.749907\tvalid_1's auc: 0.731704\n",
      "[4000]\ttraining's auc: 0.752409\tvalid_1's auc: 0.732046\n",
      "[4500]\ttraining's auc: 0.754981\tvalid_1's auc: 0.732312\n",
      "[5000]\ttraining's auc: 0.757286\tvalid_1's auc: 0.732535\n",
      "[5500]\ttraining's auc: 0.75973\tvalid_1's auc: 0.732591\n",
      "[6000]\ttraining's auc: 0.761993\tvalid_1's auc: 0.732736\n",
      "[6500]\ttraining's auc: 0.764173\tvalid_1's auc: 0.732824\n",
      "[7000]\ttraining's auc: 0.766238\tvalid_1's auc: 0.732853\n",
      "Early stopping, best iteration is:\n",
      "[6930]\ttraining's auc: 0.765946\tvalid_1's auc: 0.732864\n",
      "调参后lightgbm单模型在验证集上的AUC：0.732863906526153\n"
     ]
    }
   ],
   "execution_count": 9
  },
  {
   "cell_type": "code",
   "id": "6d0d168f92548271",
   "metadata": {
    "ExecuteTime": {
     "end_time": "2025-03-07T11:19:14.986614Z",
     "start_time": "2025-03-07T11:19:14.965609Z"
    }
   },
   "source": [
    "from sklearn.linear_model import LogisticRegression\n",
    "# 第二层使用逻辑回归进行stack\n",
    "LogisticRegression(solver='lbfgs')\n",
    "stacker = Classifier(dataset=stack_ds, estimator=LogisticRegression, parameters={'solver': 'lbfgs'})\n",
    "# 测试集的预测结果\n",
    "test_pred = stacker.predict()\n",
    "test_pred\n",
    "\n"
   ],
   "outputs": [
    {
     "data": {
      "text/plain": [
       "array([0.099757  , 0.3480528 , 0.74377717, ..., 0.19295431, 0.15915452,\n",
       "       0.07000274])"
      ]
     },
     "execution_count": 26,
     "metadata": {},
     "output_type": "execute_result"
    }
   ],
   "execution_count": 26
  },
  {
   "metadata": {
    "ExecuteTime": {
     "end_time": "2025-03-07T09:46:44.331965Z",
     "start_time": "2025-03-07T09:46:44.317962Z"
    }
   },
   "cell_type": "code",
   "source": "test_pred.shape",
   "id": "ce3b35212ebc5902",
   "outputs": [
    {
     "data": {
      "text/plain": [
       "(200000,)"
      ]
     },
     "execution_count": 12,
     "metadata": {},
     "output_type": "execute_result"
    }
   ],
   "execution_count": 12
  },
  {
   "metadata": {
    "ExecuteTime": {
     "end_time": "2025-03-07T09:56:35.727586Z",
     "start_time": "2025-03-07T09:56:35.701581Z"
    }
   },
   "cell_type": "code",
   "source": [
    "\"\"\"生成提交格式的DataFrame\"\"\"\n",
    "df_result = pd.DataFrame({'id': test['id'], 'isDefault': test_pred})\n",
    "df_result.sort_values(by='id').head(20)"
   ],
   "id": "21c619ff550169d",
   "outputs": [
    {
     "data": {
      "text/plain": [
       "        id  isDefault\n",
       "0   800000   0.099757\n",
       "1   800001   0.348053\n",
       "2   800002   0.743777\n",
       "3   800003   0.292312\n",
       "4   800004   0.262373\n",
       "5   800005   0.068968\n",
       "6   800006   0.267375\n",
       "7   800007   0.076076\n",
       "8   800008   0.757172\n",
       "9   800009   0.074873\n",
       "10  800010   0.438450\n",
       "11  800011   0.309172\n",
       "12  800012   0.286977\n",
       "13  800013   0.210425\n",
       "14  800014   0.112751\n",
       "15  800015   0.135933\n",
       "16  800016   0.175654\n",
       "17  800017   0.135298\n",
       "18  800018   0.072362\n",
       "19  800019   0.246668"
      ],
      "text/html": [
       "<div>\n",
       "<style scoped>\n",
       "    .dataframe tbody tr th:only-of-type {\n",
       "        vertical-align: middle;\n",
       "    }\n",
       "\n",
       "    .dataframe tbody tr th {\n",
       "        vertical-align: top;\n",
       "    }\n",
       "\n",
       "    .dataframe thead th {\n",
       "        text-align: right;\n",
       "    }\n",
       "</style>\n",
       "<table border=\"1\" class=\"dataframe\">\n",
       "  <thead>\n",
       "    <tr style=\"text-align: right;\">\n",
       "      <th></th>\n",
       "      <th>id</th>\n",
       "      <th>isDefault</th>\n",
       "    </tr>\n",
       "  </thead>\n",
       "  <tbody>\n",
       "    <tr>\n",
       "      <th>0</th>\n",
       "      <td>800000</td>\n",
       "      <td>0.099757</td>\n",
       "    </tr>\n",
       "    <tr>\n",
       "      <th>1</th>\n",
       "      <td>800001</td>\n",
       "      <td>0.348053</td>\n",
       "    </tr>\n",
       "    <tr>\n",
       "      <th>2</th>\n",
       "      <td>800002</td>\n",
       "      <td>0.743777</td>\n",
       "    </tr>\n",
       "    <tr>\n",
       "      <th>3</th>\n",
       "      <td>800003</td>\n",
       "      <td>0.292312</td>\n",
       "    </tr>\n",
       "    <tr>\n",
       "      <th>4</th>\n",
       "      <td>800004</td>\n",
       "      <td>0.262373</td>\n",
       "    </tr>\n",
       "    <tr>\n",
       "      <th>5</th>\n",
       "      <td>800005</td>\n",
       "      <td>0.068968</td>\n",
       "    </tr>\n",
       "    <tr>\n",
       "      <th>6</th>\n",
       "      <td>800006</td>\n",
       "      <td>0.267375</td>\n",
       "    </tr>\n",
       "    <tr>\n",
       "      <th>7</th>\n",
       "      <td>800007</td>\n",
       "      <td>0.076076</td>\n",
       "    </tr>\n",
       "    <tr>\n",
       "      <th>8</th>\n",
       "      <td>800008</td>\n",
       "      <td>0.757172</td>\n",
       "    </tr>\n",
       "    <tr>\n",
       "      <th>9</th>\n",
       "      <td>800009</td>\n",
       "      <td>0.074873</td>\n",
       "    </tr>\n",
       "    <tr>\n",
       "      <th>10</th>\n",
       "      <td>800010</td>\n",
       "      <td>0.438450</td>\n",
       "    </tr>\n",
       "    <tr>\n",
       "      <th>11</th>\n",
       "      <td>800011</td>\n",
       "      <td>0.309172</td>\n",
       "    </tr>\n",
       "    <tr>\n",
       "      <th>12</th>\n",
       "      <td>800012</td>\n",
       "      <td>0.286977</td>\n",
       "    </tr>\n",
       "    <tr>\n",
       "      <th>13</th>\n",
       "      <td>800013</td>\n",
       "      <td>0.210425</td>\n",
       "    </tr>\n",
       "    <tr>\n",
       "      <th>14</th>\n",
       "      <td>800014</td>\n",
       "      <td>0.112751</td>\n",
       "    </tr>\n",
       "    <tr>\n",
       "      <th>15</th>\n",
       "      <td>800015</td>\n",
       "      <td>0.135933</td>\n",
       "    </tr>\n",
       "    <tr>\n",
       "      <th>16</th>\n",
       "      <td>800016</td>\n",
       "      <td>0.175654</td>\n",
       "    </tr>\n",
       "    <tr>\n",
       "      <th>17</th>\n",
       "      <td>800017</td>\n",
       "      <td>0.135298</td>\n",
       "    </tr>\n",
       "    <tr>\n",
       "      <th>18</th>\n",
       "      <td>800018</td>\n",
       "      <td>0.072362</td>\n",
       "    </tr>\n",
       "    <tr>\n",
       "      <th>19</th>\n",
       "      <td>800019</td>\n",
       "      <td>0.246668</td>\n",
       "    </tr>\n",
       "  </tbody>\n",
       "</table>\n",
       "</div>"
      ]
     },
     "execution_count": 17,
     "metadata": {},
     "output_type": "execute_result"
    }
   ],
   "execution_count": 17
  },
  {
   "metadata": {
    "ExecuteTime": {
     "end_time": "2025-03-07T10:00:35.428243Z",
     "start_time": "2025-03-07T10:00:35.098177Z"
    }
   },
   "cell_type": "code",
   "source": [
    "\"\"\"保存数据用于预测建模\"\"\"\n",
    "df_result.to_csv('./prediction_result/pred_by_stack_20250307_V1.csv', index=False)"
   ],
   "id": "53353dd01597cad9",
   "outputs": [],
   "execution_count": 18
  },
  {
   "metadata": {},
   "cell_type": "markdown",
   "source": "## 使用blending方法进行模型融合",
   "id": "ed6f09b527b6f842"
  },
  {
   "metadata": {
    "ExecuteTime": {
     "end_time": "2025-03-07T10:23:11.913679Z",
     "start_time": "2025-03-07T10:07:43.544701Z"
    }
   },
   "cell_type": "code",
   "source": [
    "# 构建第一层新特征，将训练集切分成8:2，其中80%用于训练基学习器，20%用于构建新特征\n",
    "blend_ds = pipeline.blend(proportion=0.2,seed=111)\n",
    "# 第二层使用逻辑回归进行blend\n",
    "blender = Classifier(dataset=blend_ds, estimator=LogisticRegression, parameters={'solver': 'lbfgs'})\n",
    "# 测试集的预测结果\n",
    "test_pred = blender.predict()\n",
    "test_pred"
   ],
   "id": "a15e0eaa1fa1f6b",
   "outputs": [
    {
     "name": "stdout",
     "output_type": "stream",
     "text": [
      "[0]\ttrain-auc:0.69341\teval-auc:0.69403\n",
      "[200]\ttrain-auc:0.72842\teval-auc:0.72483\n",
      "[400]\ttrain-auc:0.73613\teval-auc:0.72846\n",
      "[600]\ttrain-auc:0.74187\teval-auc:0.73044\n",
      "[800]\ttrain-auc:0.74660\teval-auc:0.73157\n",
      "[1000]\ttrain-auc:0.75090\teval-auc:0.73219\n",
      "[1200]\ttrain-auc:0.75491\teval-auc:0.73260\n",
      "[1400]\ttrain-auc:0.75843\teval-auc:0.73286\n",
      "[1600]\ttrain-auc:0.76200\teval-auc:0.73301\n",
      "[1800]\ttrain-auc:0.76532\teval-auc:0.73314\n",
      "[2000]\ttrain-auc:0.76845\teval-auc:0.73320\n",
      "[2200]\ttrain-auc:0.77195\teval-auc:0.73317\n",
      "[2294]\ttrain-auc:0.77344\teval-auc:0.73315\n",
      "调参后xgboost单模型在验证集上的AUC：0.7332487758617261\n",
      "Training until validation scores don't improve for 500 rounds\n",
      "[500]\ttraining's auc: 0.725703\tvalid_1's auc: 0.723424\n",
      "[1000]\ttraining's auc: 0.733103\tvalid_1's auc: 0.727678\n",
      "[1500]\ttraining's auc: 0.738143\tvalid_1's auc: 0.729677\n",
      "[2000]\ttraining's auc: 0.742272\tvalid_1's auc: 0.730995\n",
      "[2500]\ttraining's auc: 0.74599\tvalid_1's auc: 0.731843\n",
      "[3000]\ttraining's auc: 0.749465\tvalid_1's auc: 0.732426\n",
      "[3500]\ttraining's auc: 0.752599\tvalid_1's auc: 0.732746\n",
      "[4000]\ttraining's auc: 0.755674\tvalid_1's auc: 0.732967\n",
      "[4500]\ttraining's auc: 0.758441\tvalid_1's auc: 0.733074\n",
      "[5000]\ttraining's auc: 0.761234\tvalid_1's auc: 0.733173\n",
      "[5500]\ttraining's auc: 0.763922\tvalid_1's auc: 0.733213\n",
      "[6000]\ttraining's auc: 0.76661\tvalid_1's auc: 0.733276\n",
      "[6500]\ttraining's auc: 0.769114\tvalid_1's auc: 0.733207\n",
      "Early stopping, best iteration is:\n",
      "[6250]\ttraining's auc: 0.76785\tvalid_1's auc: 0.733294\n",
      "调参后lightgbm单模型在验证集上的AUC：0.7332942647753722\n"
     ]
    },
    {
     "data": {
      "text/plain": [
       "array([0.09234938, 0.33190246, 0.70607175, ..., 0.18517285, 0.17166879,\n",
       "       0.06734737])"
      ]
     },
     "execution_count": 19,
     "metadata": {},
     "output_type": "execute_result"
    }
   ],
   "execution_count": 19
  },
  {
   "metadata": {
    "ExecuteTime": {
     "end_time": "2025-03-07T10:37:27.505244Z",
     "start_time": "2025-03-07T10:37:27.491240Z"
    }
   },
   "cell_type": "code",
   "source": [
    "df_result2 = pd.DataFrame({'id': test['id'], 'isDefault': test_pred})\n",
    "df_result2.sort_values(by='id').head(20)"
   ],
   "id": "307dd6512774c70f",
   "outputs": [
    {
     "data": {
      "text/plain": [
       "        id  isDefault\n",
       "0   800000   0.092349\n",
       "1   800001   0.331902\n",
       "2   800002   0.706072\n",
       "3   800003   0.248769\n",
       "4   800004   0.285136\n",
       "5   800005   0.066736\n",
       "6   800006   0.261221\n",
       "7   800007   0.072459\n",
       "8   800008   0.722855\n",
       "9   800009   0.073296\n",
       "10  800010   0.413802\n",
       "11  800011   0.334024\n",
       "12  800012   0.325126\n",
       "13  800013   0.212787\n",
       "14  800014   0.123826\n",
       "15  800015   0.133826\n",
       "16  800016   0.182902\n",
       "17  800017   0.160898\n",
       "18  800018   0.072921\n",
       "19  800019   0.239348"
      ],
      "text/html": [
       "<div>\n",
       "<style scoped>\n",
       "    .dataframe tbody tr th:only-of-type {\n",
       "        vertical-align: middle;\n",
       "    }\n",
       "\n",
       "    .dataframe tbody tr th {\n",
       "        vertical-align: top;\n",
       "    }\n",
       "\n",
       "    .dataframe thead th {\n",
       "        text-align: right;\n",
       "    }\n",
       "</style>\n",
       "<table border=\"1\" class=\"dataframe\">\n",
       "  <thead>\n",
       "    <tr style=\"text-align: right;\">\n",
       "      <th></th>\n",
       "      <th>id</th>\n",
       "      <th>isDefault</th>\n",
       "    </tr>\n",
       "  </thead>\n",
       "  <tbody>\n",
       "    <tr>\n",
       "      <th>0</th>\n",
       "      <td>800000</td>\n",
       "      <td>0.092349</td>\n",
       "    </tr>\n",
       "    <tr>\n",
       "      <th>1</th>\n",
       "      <td>800001</td>\n",
       "      <td>0.331902</td>\n",
       "    </tr>\n",
       "    <tr>\n",
       "      <th>2</th>\n",
       "      <td>800002</td>\n",
       "      <td>0.706072</td>\n",
       "    </tr>\n",
       "    <tr>\n",
       "      <th>3</th>\n",
       "      <td>800003</td>\n",
       "      <td>0.248769</td>\n",
       "    </tr>\n",
       "    <tr>\n",
       "      <th>4</th>\n",
       "      <td>800004</td>\n",
       "      <td>0.285136</td>\n",
       "    </tr>\n",
       "    <tr>\n",
       "      <th>5</th>\n",
       "      <td>800005</td>\n",
       "      <td>0.066736</td>\n",
       "    </tr>\n",
       "    <tr>\n",
       "      <th>6</th>\n",
       "      <td>800006</td>\n",
       "      <td>0.261221</td>\n",
       "    </tr>\n",
       "    <tr>\n",
       "      <th>7</th>\n",
       "      <td>800007</td>\n",
       "      <td>0.072459</td>\n",
       "    </tr>\n",
       "    <tr>\n",
       "      <th>8</th>\n",
       "      <td>800008</td>\n",
       "      <td>0.722855</td>\n",
       "    </tr>\n",
       "    <tr>\n",
       "      <th>9</th>\n",
       "      <td>800009</td>\n",
       "      <td>0.073296</td>\n",
       "    </tr>\n",
       "    <tr>\n",
       "      <th>10</th>\n",
       "      <td>800010</td>\n",
       "      <td>0.413802</td>\n",
       "    </tr>\n",
       "    <tr>\n",
       "      <th>11</th>\n",
       "      <td>800011</td>\n",
       "      <td>0.334024</td>\n",
       "    </tr>\n",
       "    <tr>\n",
       "      <th>12</th>\n",
       "      <td>800012</td>\n",
       "      <td>0.325126</td>\n",
       "    </tr>\n",
       "    <tr>\n",
       "      <th>13</th>\n",
       "      <td>800013</td>\n",
       "      <td>0.212787</td>\n",
       "    </tr>\n",
       "    <tr>\n",
       "      <th>14</th>\n",
       "      <td>800014</td>\n",
       "      <td>0.123826</td>\n",
       "    </tr>\n",
       "    <tr>\n",
       "      <th>15</th>\n",
       "      <td>800015</td>\n",
       "      <td>0.133826</td>\n",
       "    </tr>\n",
       "    <tr>\n",
       "      <th>16</th>\n",
       "      <td>800016</td>\n",
       "      <td>0.182902</td>\n",
       "    </tr>\n",
       "    <tr>\n",
       "      <th>17</th>\n",
       "      <td>800017</td>\n",
       "      <td>0.160898</td>\n",
       "    </tr>\n",
       "    <tr>\n",
       "      <th>18</th>\n",
       "      <td>800018</td>\n",
       "      <td>0.072921</td>\n",
       "    </tr>\n",
       "    <tr>\n",
       "      <th>19</th>\n",
       "      <td>800019</td>\n",
       "      <td>0.239348</td>\n",
       "    </tr>\n",
       "  </tbody>\n",
       "</table>\n",
       "</div>"
      ]
     },
     "execution_count": 20,
     "metadata": {},
     "output_type": "execute_result"
    }
   ],
   "execution_count": 20
  },
  {
   "metadata": {
    "ExecuteTime": {
     "end_time": "2025-03-07T10:38:23.619414Z",
     "start_time": "2025-03-07T10:38:23.367779Z"
    }
   },
   "cell_type": "code",
   "source": "df_result2.to_csv('./prediction_result/pred_by_blend_20250307_V1.csv', index=False)",
   "id": "910c217896aec370",
   "outputs": [],
   "execution_count": 21
  },
  {
   "metadata": {},
   "cell_type": "code",
   "source": "",
   "id": "4d1e78470d1a45d",
   "outputs": [],
   "execution_count": null
  },
  {
   "metadata": {},
   "cell_type": "code",
   "source": "",
   "id": "764461a40f637e05",
   "outputs": [],
   "execution_count": null
  },
  {
   "metadata": {},
   "cell_type": "code",
   "outputs": [],
   "execution_count": null,
   "source": "",
   "id": "5f4e5ecb7229e96a"
  }
 ],
 "metadata": {
  "kernelspec": {
   "display_name": "Python 3 (ipykernel)",
   "language": "python",
   "name": "python3"
  },
  "language_info": {
   "codemirror_mode": {
    "name": "ipython",
    "version": 3
   },
   "file_extension": ".py",
   "mimetype": "text/x-python",
   "name": "python",
   "nbconvert_exporter": "python",
   "pygments_lexer": "ipython3",
   "version": "3.9.20"
  }
 },
 "nbformat": 4,
 "nbformat_minor": 5
}
